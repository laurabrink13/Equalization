{
 "cells": [
  {
   "cell_type": "markdown",
   "metadata": {},
   "source": [
    "Can an RNN learn to keep a clock as it's state? No input, can an RNN follow a circle?"
   ]
  },
  {
   "cell_type": "code",
   "execution_count": 1,
   "metadata": {},
   "outputs": [
    {
     "name": "stdout",
     "output_type": "stream",
     "text": [
      "0\n",
      "10000\n",
      "20000\n",
      "30000\n",
      "40000\n",
      "50000\n",
      "60000\n",
      "70000\n",
      "80000\n",
      "90000\n",
      "100000\n",
      "110000\n",
      "120000\n",
      "130000\n",
      "140000\n",
      "150000\n",
      "160000\n",
      "170000\n",
      "180000\n",
      "190000\n",
      "200000\n",
      "210000\n",
      "220000\n",
      "230000\n",
      "240000\n",
      "250000\n",
      "260000\n",
      "270000\n",
      "280000\n",
      "290000\n",
      "300000\n",
      "310000\n",
      "320000\n",
      "330000\n",
      "340000\n",
      "350000\n",
      "360000\n",
      "370000\n",
      "380000\n",
      "390000\n",
      "400000\n",
      "410000\n",
      "420000\n",
      "430000\n",
      "440000\n",
      "450000\n",
      "460000\n",
      "470000\n",
      "480000\n",
      "490000\n",
      "Data generation complete.\n"
     ]
    }
   ],
   "source": [
    "# create training data\n",
    "\n",
    "import numpy as np\n",
    "import scipy.signal as sig\n",
    "from numpy import linalg as LA\n",
    "import matplotlib.pyplot as plt\n",
    "\n",
    "# Create training and test data for the NN\n",
    "\n",
    "epochs = 5000\n",
    "batch_size = 100\n",
    "\n",
    "# number of random channels that will be trained and tested on\n",
    "num_train=epochs*batch_size\n",
    "num_test=batch_size\n",
    "\n",
    "data_length = 100\n",
    "omega = 1/100 # rate of rotation, number of rotations / symbol\n",
    "\n",
    "\n",
    "# QPSK\n",
    "data_train = np.zeros((num_train, data_length,2))\n",
    "data_test = np.zeros((num_test, data_length,2))\n",
    "\n",
    "for i in range(num_train):\n",
    "    \n",
    "    # first choose a random starting point on the unit circle\n",
    "    # there are 2pi radians in a circle, choose random number between 0 and 2pi\n",
    "#     random_start = np.random.rand()*2*np.pi\n",
    "    random_start = 0\n",
    "    \n",
    "    # real part of data\n",
    "    data_train[i,0,:]=np.array([np.cos(random_start), np.sin(random_start)])\n",
    "    \n",
    "    # rotate data according to omega\n",
    "    for j in range(1,data_length):\n",
    "        data_train[i,j,0]=(data_train[i,j-1,0]*np.cos(omega)-data_train[i,j-1,1]*np.sin(omega))\n",
    "        data_train[i,j,1]=(data_train[i,j-1,0]*np.sin(omega)+data_train[i,j-1,1]*np.cos(omega))\n",
    "        \n",
    "    if i % 10000 == 0:\n",
    "        print(i)\n",
    "    \n",
    "\n",
    "for i in range(num_test):\n",
    "    # first choose a random starting point on the unit circle\n",
    "    # there are 2pi radians in a circle, choose random number between 0 and 2pi\n",
    "#     random_start = np.random.rand()*2*np.pi\n",
    "    random_start = 0 \n",
    "    \n",
    "    # real part of data\n",
    "    data_test[i,0,:]=np.array([np.cos(random_start), np.sin(random_start)])\n",
    "    \n",
    "    # rotate data according to omega\n",
    "    for j in range(1,data_length):\n",
    "        data_test[i,j,0]=(data_test[i,j-1,0]*np.cos(omega)-data_test[i,j-1,1]*np.sin(omega))\n",
    "        data_test[i,j,1]=(data_test[i,j-1,0]*np.sin(omega)+data_test[i,j-1,1]*np.cos(omega))\n",
    "\n",
    "print(\"Data generation complete.\")"
   ]
  },
  {
   "cell_type": "code",
   "execution_count": 2,
   "metadata": {},
   "outputs": [
    {
     "name": "stdout",
     "output_type": "stream",
     "text": [
      "2.798962382731165\n"
     ]
    },
    {
     "data": {
      "image/png": "[encoded data removed]",
      "text/plain": [
       "<matplotlib.figure.Figure at 0x7fa6706b0160>"
      ]
     },
     "metadata": {},
     "output_type": "display_data"
    }
   ],
   "source": [
    "random_start = np.random.rand()*2*np.pi\n",
    "print(random_start)\n",
    "\n",
    "np.array([np.cos(random_start), np.sin(random_start)])\n",
    "\n",
    "plt.figure()\n",
    "# plot unit circle\n",
    "t = np.linspace(0,np.pi*2,100)\n",
    "plt.plot(np.cos(t), np.sin(t), linewidth=1)\n",
    "\n",
    "k = 14\n",
    "\n",
    "# plot the movement\n",
    "for i in range(data_length):\n",
    "    plt.plot(data_train[k,i,0],data_train[k,i,1], 'go')\n",
    "\n",
    "plt.show()"
   ]
  },
  {
   "cell_type": "code",
   "execution_count": 3,
   "metadata": {},
   "outputs": [
    {
     "name": "stderr",
     "output_type": "stream",
     "text": [
      "/home/laura/anaconda3/lib/python3.6/site-packages/h5py/__init__.py:36: FutureWarning: Conversion of the second argument of issubdtype from `float` to `np.floating` is deprecated. In future, it will be treated as `np.float64 == np.dtype(float).type`.\n",
      "  from ._conv import register_converters as _register_converters\n"
     ]
    },
    {
     "name": "stdout",
     "output_type": "stream",
     "text": [
      "Tensor(\"Size:0\", shape=(), dtype=int32)\n",
      "Tensor(\"Size_1:0\", shape=(), dtype=int32)\n"
     ]
    }
   ],
   "source": [
    "import numpy as np\n",
    "from numpy import linalg as LA\n",
    "import tensorflow as tf\n",
    "import matplotlib.pyplot as plt\n",
    "%matplotlib inline\n",
    "# fix random seed for reproducibility\n",
    "np.random.seed()\n",
    "\n",
    "learning_rate = 0.01\n",
    "decay = 1 - 10*1e-10\n",
    "\n",
    "batch_size = 100 # num of data streams\n",
    "state_size = 20 # state size\n",
    "output_size = 2 # size of the output\n",
    "\n",
    "batch_data_placeholder = tf.placeholder(tf.float32, [None, data_length,2])\n",
    "\n",
    "init_state = tf.placeholder(tf.float32, [None, state_size])\n",
    "\n",
    "# Unpack columns\n",
    "data = tf.unstack(batch_data_placeholder, axis=1)\n",
    "\n",
    "# Forward pass\n",
    "current_state = init_state\n",
    "est_data_series = []\n",
    "for current_data in data:\n",
    "    \n",
    "    layer_1 = tf.layers.dense(\n",
    "      current_state, 400, tf.nn.tanh, use_bias=True)\n",
    "    layer_2 = tf.layers.dense(\n",
    "      layer_1, 400, tf.nn.sigmoid, use_bias=True)\n",
    "    layer_3 = tf.layers.dense(\n",
    "      layer_2, state_size, activation=tf.identity, use_bias=True)\n",
    "\n",
    "#     layer_3 = tf.layers.dense(\n",
    "#         layer_1, state_size, activation=tf.identity, use_bias=True)\n",
    "\n",
    "    next_state = layer_3\n",
    "#     print(next_state[:,0])\n",
    "\n",
    "    layer_4 = tf.layers.dense(\n",
    "         layer_3, output_size, activation=tf.identity, use_bias=True)\n",
    "\n",
    "\n",
    "    est_data_series.append(layer_4)\n",
    "#     print(est_data_series)\n",
    "#     print(np.array(est_data_series).shape)\n",
    "    current_state = next_state\n",
    "    \n",
    "print(tf.size(est_data_series))\n",
    "print(tf.size(data))\n",
    "\n",
    "estimation_cost = tf.losses.mean_squared_error(data,est_data_series)\n",
    "\n",
    "optimizer = tf.train.AdamOptimizer(learning_rate).minimize(estimation_cost)\n",
    "                                                                                  \n",
    "# finally setup the initialisation operator\n",
    "init_op = tf.global_variables_initializer()"
   ]
  },
  {
   "cell_type": "code",
   "execution_count": 4,
   "metadata": {
    "scrolled": false
   },
   "outputs": [
    {
     "name": "stdout",
     "output_type": "stream",
     "text": [
      "Epoch 0, Train Cost 1.3206826448440552, Test Cost: 61.499088287353516\n",
      "Epoch 100, Train Cost 0.0001331845560343936, Test Cost: 0.00012892040831502527\n",
      "Epoch 200, Train Cost 0.00029521057149395347, Test Cost: 0.000631282920949161\n",
      "Epoch 300, Train Cost 0.0010990119772031903, Test Cost: 0.002206088276579976\n",
      "Epoch 400, Train Cost 2.1985883904562797e-06, Test Cost: 9.677127081886283e-07\n",
      "Epoch 500, Train Cost 0.001408718409948051, Test Cost: 4.3393607484176755e-05\n",
      "Epoch 600, Train Cost 0.0012476521078497171, Test Cost: 0.0017884898697957397\n",
      "Epoch 700, Train Cost 0.00014020684466231614, Test Cost: 1.3435530490824021e-05\n",
      "Epoch 800, Train Cost 0.007035158574581146, Test Cost: 0.004952061455696821\n",
      "Epoch 900, Train Cost 0.0004153359041083604, Test Cost: 0.00186661456245929\n",
      "Epoch 1000, Train Cost 0.005972928833216429, Test Cost: 0.006983532104641199\n",
      "Epoch 1100, Train Cost 0.0018028505146503448, Test Cost: 0.0029945136047899723\n",
      "Epoch 1200, Train Cost 2.134262649633456e-05, Test Cost: 1.562692159495782e-05\n",
      "Epoch 1300, Train Cost 0.0003574623551685363, Test Cost: 0.0025150529108941555\n",
      "Epoch 1400, Train Cost 0.00039577001007273793, Test Cost: 0.0008042535628192127\n",
      "Epoch 1500, Train Cost 0.0005102213472127914, Test Cost: 0.0004158291849307716\n",
      "Epoch 1600, Train Cost 0.0019461332121863961, Test Cost: 0.0017772018909454346\n",
      "Epoch 1700, Train Cost 0.0030866244342178106, Test Cost: 0.003209727117791772\n",
      "Epoch 1800, Train Cost 0.0025082938373088837, Test Cost: 0.002848358592018485\n",
      "Epoch 1900, Train Cost 0.0015553055563941598, Test Cost: 0.0009954746346920729\n",
      "Epoch 2000, Train Cost 0.0018981910543516278, Test Cost: 0.001730642863549292\n",
      "Epoch 2100, Train Cost 0.0022107395343482494, Test Cost: 0.0013178252847865224\n",
      "Epoch 2200, Train Cost 0.005986337084323168, Test Cost: 0.0054837847128510475\n",
      "Epoch 2300, Train Cost 0.005675951950252056, Test Cost: 0.0024377491790801287\n",
      "Epoch 2400, Train Cost 0.0013610380701720715, Test Cost: 0.0020642199087888002\n",
      "Epoch 2500, Train Cost 0.011046401225030422, Test Cost: 0.008146562613546848\n",
      "Epoch 2600, Train Cost 0.0009483476751483977, Test Cost: 0.0014911039033904672\n",
      "Epoch 2700, Train Cost 0.0008308366523124278, Test Cost: 0.000748259190004319\n",
      "Epoch 2800, Train Cost 0.002710924716666341, Test Cost: 0.0031238687224686146\n",
      "Epoch 2900, Train Cost 0.0013328342465683818, Test Cost: 0.0006551300757564604\n",
      "Epoch 3000, Train Cost 0.002371594775468111, Test Cost: 0.0019877406302839518\n",
      "Epoch 3100, Train Cost 0.004823672119528055, Test Cost: 0.003939623944461346\n",
      "Epoch 3200, Train Cost 0.0014284562785178423, Test Cost: 0.0012281227391213179\n",
      "Epoch 3300, Train Cost 0.0007620935211889446, Test Cost: 0.0010126212146133184\n",
      "Epoch 3400, Train Cost 0.0010878678876906633, Test Cost: 0.0014028784353286028\n",
      "Epoch 3500, Train Cost 0.000932526309043169, Test Cost: 0.0009603719809092581\n",
      "Epoch 3600, Train Cost 0.002522840164601803, Test Cost: 0.0014264045748859644\n",
      "Epoch 3700, Train Cost 0.004269770812243223, Test Cost: 0.006926101632416248\n",
      "Epoch 3800, Train Cost 0.00044400396291166544, Test Cost: 0.00027133934781886637\n",
      "Epoch 3900, Train Cost 0.001100233756005764, Test Cost: 0.0012643852969631553\n",
      "Epoch 4000, Train Cost 0.0012941606109961867, Test Cost: 0.0009059699950739741\n",
      "Epoch 4100, Train Cost 0.00434790039435029, Test Cost: 0.0023219191934913397\n",
      "Epoch 4200, Train Cost 0.0017062610713765025, Test Cost: 0.0015086999628692865\n",
      "Epoch 4300, Train Cost 0.000932056806050241, Test Cost: 0.001245493651367724\n",
      "Epoch 4400, Train Cost 0.0019388874061405659, Test Cost: 0.0013540785294026136\n",
      "Epoch 4500, Train Cost 0.00020499549282249063, Test Cost: 0.0001895243040053174\n",
      "Epoch 4600, Train Cost 0.0010376988211646676, Test Cost: 0.0011318852193653584\n",
      "Epoch 4700, Train Cost 0.015659188851714134, Test Cost: 0.005583628546446562\n",
      "Epoch 4800, Train Cost 0.0003492838586680591, Test Cost: 0.0004106921551283449\n",
      "Epoch 4900, Train Cost 0.0002564268361311406, Test Cost: 0.0002763735828921199\n"
     ]
    },
    {
     "data": {
      "image/png": "[encoded data removed]",
      "text/plain": [
       "<matplotlib.figure.Figure at 0x7fa5f3a0bdd8>"
      ]
     },
     "metadata": {},
     "output_type": "display_data"
    }
   ],
   "source": [
    "plt.figure()\n",
    "\n",
    "# start the session\n",
    "with tf.Session() as sess:\n",
    "    #    initialize the variables\n",
    "    sess.run(init_op)\n",
    "    mc_losses = []\n",
    "    \n",
    "    for epoch in range(epochs):\n",
    "        \n",
    "        current_start = epoch*batch_size\n",
    "        data_train_batch = data_train[current_start:(current_start+batch_size),:,:]\n",
    "        \n",
    "        # begin in state of all zeros\n",
    "#         begin_state = np.zeros((batch_size, state_size))\n",
    "        # begin in randome state\n",
    "        begin_state = np.random.rand(batch_size,state_size)\n",
    "\n",
    "        _,cost,est_data_batch = sess.run([optimizer, estimation_cost, est_data_series], \n",
    "                                          feed_dict={batch_data_placeholder: data_train_batch, \n",
    "                                                     init_state: begin_state})    \n",
    "\n",
    "        if epoch % 100 == 0: \n",
    "            \n",
    "            begin_state = np.random.rand(batch_size,state_size)\n",
    "            mc_cost, mc_estimation = sess.run([estimation_cost, est_data_series], \n",
    "                                             feed_dict={batch_data_placeholder: data_test, \n",
    "                                                        init_state: begin_state})\n",
    "            \n",
    "            \n",
    "#             plt.plot(epoch, mc_cost, 'bo')\n",
    "#             plt.plot(epoch, zero_force_error, 'ro')\n",
    "#             plt.plot(epoch, mse_error, 'go')\n",
    "            print('Epoch {}, Train Cost {}, Test Cost: {}'.format(epoch, cost, mc_cost))\n",
    "            plt.plot(epoch,cost,'go')\n",
    "#             print('Epoch {}, Train Cost {}'.format(epoch, cost))\n",
    "    \n",
    "    \n",
    "    plt.xlabel('Training Epoch')\n",
    "    plt.ylabel('L2 Test Cost')\n",
    "    plt.title('NN Equalizer: no noise')\n",
    "    # plt.text(1000, .025, r'NN equalizer')\n",
    "    # plt.text(0.5, .025, r'Zero Force equalizer')\n",
    "    plt.show()\n",
    "    \n",
    "    "
   ]
  },
  {
   "cell_type": "code",
   "execution_count": 5,
   "metadata": {},
   "outputs": [
    {
     "data": {
      "image/png": "[encoded data removed]",
      "text/plain": [
       "<matplotlib.figure.Figure at 0x7fa5fb3b0080>"
      ]
     },
     "metadata": {},
     "output_type": "display_data"
    }
   ],
   "source": [
    "plt.figure()\n",
    "plt.plot(np.array(mc_estimation)[0,:,0],np.array(mc_estimation)[0,:,1],color='b')\n",
    "plt.plot(data_test[0,:,0],data_test[0,:,1],color='r')\n",
    "t = np.linspace(0,np.pi*2,100)\n",
    "plt.plot(np.cos(t), np.sin(t), linewidth=1, color='g')\n",
    "plt.show()"
   ]
  }
 ],
 "metadata": {
  "kernelspec": {
   "display_name": "Python 3",
   "language": "python",
   "name": "python3"
  },
  "language_info": {
   "codemirror_mode": {
    "name": "ipython",
    "version": 3
   },
   "file_extension": ".py",
   "mimetype": "text/x-python",
   "name": "python",
   "nbconvert_exporter": "python",
   "pygments_lexer": "ipython3",
   "version": "3.6.4"
  }
 },
 "nbformat": 4,
 "nbformat_minor": 2
}
