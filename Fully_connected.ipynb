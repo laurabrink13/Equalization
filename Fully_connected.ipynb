{
 "cells": [
  {
   "cell_type": "markdown",
   "metadata": {},
   "source": [
    "### Generate training data: channels and approximate channel inverses \n",
    "### Generate test data: channels and approximate channel inverses"
   ]
  },
  {
   "cell_type": "code",
   "execution_count": 1,
   "metadata": {},
   "outputs": [],
   "source": [
    "import numpy as np\n",
    "import scipy.signal as sig\n",
    "from numpy import linalg as LA\n",
    "import tensorflow as tf\n",
    "import matplotlib.pyplot as plt\n",
    "%matplotlib inline\n",
    "\n",
    "# Create training and test data for the NN\n",
    "\n",
    "# number of random channels that will be trained and tested on\n",
    "num_train=1000000# 1000000\n",
    "num_test=1000000\n",
    "SNR = 10\n",
    "\n",
    "# assume we know the channel_length\n",
    "channel_length = 2\n",
    "num_preambles = 10\n",
    "preamble_length = 10\n",
    "recieved_length = preamble_length + channel_length - 1\n",
    "\n",
    "preambles = np.random.randint(0,2,(num_preambles,preamble_length)) \n",
    "\n",
    "def add_awgn_noise(signal,SNR_dB):\n",
    "    \"\"\"  Adds AWGN noise vector to signal \n",
    "         to generate a resulting signal vector y of specified SNR in dB\n",
    "    \"\"\"\n",
    "    L=len(signal)\n",
    "    SNR = 10**(SNR_dB/10.0) #SNR to linear scale\n",
    "    Esym=np.sum(np.square(np.abs(signal)))/L #Calculate actual symbol energy\n",
    "    N0=Esym/SNR; #Find the noise spectral density\n",
    "    if(isinstance(signal[0], complex)):\n",
    "        noiseSigma=np.sqrt(N0/2.0)#Standard deviation for AWGN Noise when x is complex\n",
    "        n = noiseSigma*(np.random.randn(1,L)+1j*np.random.randn(1,L))#computed noise \n",
    "    else:\n",
    "        noiseSigma = np.sqrt(N0);#Standard deviation for AWGN Noise when x is real\n",
    "        n = noiseSigma*np.random.randn(1,L)#computed noise\n",
    "    y = signal + n #received signal\n",
    "    return signal\n",
    "\n",
    "# channel_train: assume we are working with just real parts, list of all used channels\n",
    "# preamble_train: use same channel on num_preambles different preambles and store them to train with\n",
    "# inverse_train: contains channel_inverse per preamble, inverse is composed of [1/a0, -a1/a0, ...... -an/a0]\n",
    "channel_train = np.zeros((num_train,channel_length))\n",
    "preamble_train = np.zeros((num_train*num_preambles, recieved_length))\n",
    "inverse_train = np.zeros((num_train*num_preambles,channel_length))\n",
    "\n",
    "channel_test = np.zeros((num_train,channel_length))\n",
    "preamble_test = np.zeros((num_train*num_preambles, recieved_length))\n",
    "inverse_test = np.zeros((num_train*num_preambles,channel_length))\n",
    "\n",
    "for i in range(0, num_train):\n",
    "    channel_train[i,:]=np.random.uniform(0.2,1,channel_length)\n",
    "    # if the total power is greater than 1, then normalize\n",
    "    if sum(channel_train[i])>=1:\n",
    "        channel_train[i] = channel_train[i]/(sum(channel_train[i]))\n",
    "        \n",
    "    for k in range(num_preambles):\n",
    "        preamble_train[i+k,:] = add_awgn_noise(sig.convolve(preambles[k], channel_train[i], mode='full'), SNR)\n",
    "        inverse_train[i+k,0] = 1/channel_train[i,0]\n",
    "        for j in range(1, channel_length):\n",
    "            inverse_train[i+k,j] = -channel_train[i,j]/channel_train[i,0]\n",
    "\n",
    "        \n",
    "        \n",
    "for i in range(0, num_test):\n",
    "    channel_test[i,:]=np.random.uniform(0.2,1,channel_length)\n",
    "    # if the total power is greater than 1, then normalize\n",
    "    if sum(channel_test[i])>=1:\n",
    "        channel_test[i] = channel_test[i]/(sum(channel_test[i]))\n",
    "        \n",
    "    for k in range(num_preambles):\n",
    "        preamble_test[i+k,:] = add_awgn_noise(sig.convolve(preambles[k], channel_test[i], mode='full'), SNR)\n",
    "        inverse_test[i+k,0] = 1/channel_test[i,0]\n",
    "        for j in range(1, channel_length):\n",
    "            inverse_test[i+k,j] = -channel_test[i,j]/channel_test[i,0]"
   ]
  },
  {
   "cell_type": "code",
   "execution_count": 3,
   "metadata": {
    "scrolled": false
   },
   "outputs": [
    {
     "name": "stdout",
     "output_type": "stream",
     "text": [
      "Epoch 0, Cost 0.06942559778690338, Test Cost: 0.0770639181137085\n",
      "Epoch 100, Cost 0.017885461449623108, Test Cost: 0.008487788960337639\n",
      "Epoch 200, Cost 0.10304037481546402, Test Cost: 0.005742689128965139\n",
      "Epoch 300, Cost 0.174800306558609, Test Cost: 0.0074842749163508415\n",
      "Epoch 400, Cost 0.0021680707577615976, Test Cost: 0.007593914400786161\n",
      "Epoch 500, Cost 0.06491932272911072, Test Cost: 0.007028133608400822\n",
      "Epoch 600, Cost 0.018567247316241264, Test Cost: 0.006627642549574375\n",
      "Epoch 700, Cost 7.002618804108351e-05, Test Cost: 0.005847664549946785\n",
      "Epoch 800, Cost 0.006843630224466324, Test Cost: 0.005582490935921669\n",
      "Epoch 900, Cost 0.000849061063490808, Test Cost: 0.004425335675477982\n"
     ]
    },
    {
     "data": {
      "image/png": "[encoded data removed]",
      "text/plain": [
       "<matplotlib.figure.Figure at 0x11ef426d8>"
      ]
     },
     "metadata": {},
     "output_type": "display_data"
    }
   ],
   "source": [
    "# fix a random seed to have the same results\n",
    "np.random.seed()\n",
    "\n",
    "learning_rate = 0.001\n",
    "epochs = 10000#10000\n",
    "batch_size = 1000\n",
    "test_averaging=100\n",
    "decay = 1 - 10*1e-10\n",
    "\n",
    "# placeholders for input and output\n",
    "adaptive_learning_rate = tf.placeholder_with_default(learning_rate, [])\n",
    "recieved_preamble = tf.placeholder(tf.float32, [None, recieved_length])\n",
    "real_inverse = tf.placeholder(tf.float32, [None, channel_length])\n",
    "\n",
    "layer1 = tf.contrib.layers.fully_connected(recieved_preamble, num_outputs=150, activation_fn=tf.nn.tanh)\n",
    "layer2 = tf.contrib.layers.fully_connected(layer1, num_outputs=150, activation_fn=tf.nn.tanh)\n",
    "layer3 = tf.contrib.layers.fully_connected(layer2, num_outputs=channel_length, activation_fn=tf.identity)\n",
    "\n",
    "inverse_channel = layer3\n",
    "\n",
    "cost_fn = tf.reduce_mean(tf.reduce_mean((real_inverse-inverse_channel)**2, axis=1))\n",
    "optimizer = tf.train.AdamOptimizer(learning_rate=adaptive_learning_rate).minimize(cost_fn)\n",
    "\n",
    "init = tf.global_variables_initializer()\n",
    "saver = tf.train.Saver()\n",
    "plt.figure()\n",
    "\n",
    "\n",
    "with tf.Session() as sess:\n",
    "    sess.run(init)\n",
    "    \n",
    "    for epoch in range(epochs):\n",
    "        \n",
    "        # for each batch start the batch with passing the first preamble through the identity channel\n",
    "        identity_channel = np.zeros(channel_length)\n",
    "        identity_channel[0] = 1\n",
    "        preamble_batch = sig.convolve(preambles[0], identity_channel, mode='full')\n",
    "        real_inv_batch = identity_channel\n",
    "        \n",
    "        for rand in range(0,batch_size-1):\n",
    "            rand_int = np.random.randint(0,num_train*num_preambles)\n",
    "            preamble_batch = np.vstack((preamble_batch, preamble_train[rand_int]))\n",
    "            real_inv_batch = np.vstack((real_inv_batch, inverse_train[rand_int]))\n",
    "            \n",
    "        preamble_batch.reshape((batch_size, recieved_length))\n",
    "        real_inv_batch.reshape((batch_size, channel_length))\n",
    "        \n",
    "        _,cost,inverse_channel2 = sess.run(\n",
    "            [optimizer, cost_fn, inverse_channel], \n",
    "            feed_dict={recieved_preamble: preamble_batch, \n",
    "                       real_inverse: real_inv_batch,adaptive_learning_rate: learning_rate * (decay**epoch)})\n",
    "        if epoch % 100 == 0: \n",
    "            plt.plot(epoch, cost, 'bo')\n",
    "            mc_cost, mc_inversion = sess.run(\n",
    "                [cost_fn, inverse_channel], feed_dict={recieved_preamble: preamble_test, real_inverse: inverse_test})\n",
    "            print('Epoch {}, Cost {}, Test Cost: {}'.format(epoch, cost, mc_cost))\n",
    "            \n",
    "    saved_model = saver.save(sess, 'my-test-model')"
   ]
  },
  {
   "cell_type": "code",
   "execution_count": null,
   "metadata": {
    "collapsed": true
   },
   "outputs": [],
   "source": []
  },
  {
   "cell_type": "code",
   "execution_count": null,
   "metadata": {
    "collapsed": true
   },
   "outputs": [],
   "source": []
  }
 ],
 "metadata": {
  "kernelspec": {
   "display_name": "Python 3",
   "language": "python",
   "name": "python3"
  },
  "language_info": {
   "codemirror_mode": {
    "name": "ipython",
    "version": 3
   },
   "file_extension": ".py",
   "mimetype": "text/x-python",
   "name": "python",
   "nbconvert_exporter": "python",
   "pygments_lexer": "ipython3",
   "version": "3.6.4"
  }
 },
 "nbformat": 4,
 "nbformat_minor": 2
}
