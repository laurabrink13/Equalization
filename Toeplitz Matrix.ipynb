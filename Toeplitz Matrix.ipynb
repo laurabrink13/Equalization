{
 "cells": [
  {
   "cell_type": "code",
   "execution_count": 6,
   "metadata": {
    "collapsed": false
   },
   "outputs": [
    {
     "name": "stdout",
     "output_type": "stream",
     "text": [
      "(20, array([ 1,  2,  3,  4,  5,  6,  7,  8,  9, 10, 11, 12, 13, 14, 15, 16, 17,\n",
      "       18, 19, 20]))\n",
      "[[11 10  9  8  7  6  5  4  3  2  1  0  0  0  0  0  0  0  0  0  0]\n",
      " [12 11 10  9  8  7  6  5  4  3  2  1  0  0  0  0  0  0  0  0  0]\n",
      " [13 12 11 10  9  8  7  6  5  4  3  2  1  0  0  0  0  0  0  0  0]\n",
      " [14 13 12 11 10  9  8  7  6  5  4  3  2  1  0  0  0  0  0  0  0]\n",
      " [15 14 13 12 11 10  9  8  7  6  5  4  3  2  1  0  0  0  0  0  0]\n",
      " [16 15 14 13 12 11 10  9  8  7  6  5  4  3  2  1  0  0  0  0  0]\n",
      " [17 16 15 14 13 12 11 10  9  8  7  6  5  4  3  2  1  0  0  0  0]\n",
      " [18 17 16 15 14 13 12 11 10  9  8  7  6  5  4  3  2  1  0  0  0]\n",
      " [19 18 17 16 15 14 13 12 11 10  9  8  7  6  5  4  3  2  1  0  0]\n",
      " [20 19 18 17 16 15 14 13 12 11 10  9  8  7  6  5  4  3  2  1  0]\n",
      " [ 0 20 19 18 17 16 15 14 13 12 11 10  9  8  7  6  5  4  3  2  1]\n",
      " [ 0  0 20 19 18 17 16 15 14 13 12 11 10  9  8  7  6  5  4  3  2]\n",
      " [ 0  0  0 20 19 18 17 16 15 14 13 12 11 10  9  8  7  6  5  4  3]\n",
      " [ 0  0  0  0 20 19 18 17 16 15 14 13 12 11 10  9  8  7  6  5  4]\n",
      " [ 0  0  0  0  0 20 19 18 17 16 15 14 13 12 11 10  9  8  7  6  5]\n",
      " [ 0  0  0  0  0  0 20 19 18 17 16 15 14 13 12 11 10  9  8  7  6]\n",
      " [ 0  0  0  0  0  0  0 20 19 18 17 16 15 14 13 12 11 10  9  8  7]\n",
      " [ 0  0  0  0  0  0  0  0 20 19 18 17 16 15 14 13 12 11 10  9  8]\n",
      " [ 0  0  0  0  0  0  0  0  0 20 19 18 17 16 15 14 13 12 11 10  9]\n",
      " [ 0  0  0  0  0  0  0  0  0  0 20 19 18 17 16 15 14 13 12 11 10]]\n",
      "[[12  2  3  4  5  6  7  8  9 10 11  0  0  0  0  0  0  0  0  0  0]\n",
      " [13 12  2  3  4  5  6  7  8  9 10 11  0  0  0  0  0  0  0  0  0]\n",
      " [14 13 12  2  3  4  5  6  7  8  9 10 11  0  0  0  0  0  0  0  0]\n",
      " [15 14 13 12  2  3  4  5  6  7  8  9 10 11  0  0  0  0  0  0  0]\n",
      " [16 15 14 13 12  2  3  4  5  6  7  8  9 10 11  0  0  0  0  0  0]\n",
      " [17 16 15 14 13 12  2  3  4  5  6  7  8  9 10 11  0  0  0  0  0]\n",
      " [18 17 16 15 14 13 12  2  3  4  5  6  7  8  9 10 11  0  0  0  0]\n",
      " [19 18 17 16 15 14 13 12  2  3  4  5  6  7  8  9 10 11  0  0  0]\n",
      " [20 19 18 17 16 15 14 13 12  2  3  4  5  6  7  8  9 10 11  0  0]\n",
      " [ 0 20 19 18 17 16 15 14 13 12  2  3  4  5  6  7  8  9 10 11  0]\n",
      " [ 0  0 20 19 18 17 16 15 14 13 12  2  3  4  5  6  7  8  9 10 11]\n",
      " [ 0  0  0 20 19 18 17 16 15 14 13 12  2  3  4  5  6  7  8  9 10]\n",
      " [ 0  0  0  0 20 19 18 17 16 15 14 13 12  2  3  4  5  6  7  8  9]\n",
      " [ 0  0  0  0  0 20 19 18 17 16 15 14 13 12  2  3  4  5  6  7  8]\n",
      " [ 0  0  0  0  0  0 20 19 18 17 16 15 14 13 12  2  3  4  5  6  7]\n",
      " [ 0  0  0  0  0  0  0 20 19 18 17 16 15 14 13 12  2  3  4  5  6]\n",
      " [ 0  0  0  0  0  0  0  0 20 19 18 17 16 15 14 13 12  2  3  4  5]\n",
      " [ 0  0  0  0  0  0  0  0  0 20 19 18 17 16 15 14 13 12  2  3  4]\n",
      " [ 0  0  0  0  0  0  0  0  0  0 20 19 18 17 16 15 14 13 12  2  3]\n",
      " [ 0  0  0  0  0  0  0  0  0  0  0 20 19 18 17 16 15 14 13 12  2]]\n"
     ]
    }
   ],
   "source": [
    "import numpy as np\n",
    "import commpy as cp\n",
    "import scipy.signal as sig\n",
    "import scipy.linalg as la\n",
    "import math\n",
    "import matplotlib.pyplot as plt\n",
    "%matplotlib inline\n",
    "\n",
    "def channel(input_data_constellations, channel_function):\n",
    "    \"\"\"  2. Convolves modulated data with a randomly generated channel fcn of t taps  \"\"\"\n",
    "    channel_output = sig.convolve(input_data_constellations, channel_function, mode='full') # convolve input complex data with the channel transfer function\n",
    "    return channel_output\n",
    "\n",
    "\"\"\"Generates the toeplitz matrix to perform least squares on.\"\"\"\n",
    "def gen_toeplitz(received_signal, channel_length, equalizer_length):\n",
    "    # offset_amount needs to be same as in \"test ()\"\n",
    "    offset_amount = (equalizer_length+1) // 2\n",
    "    row = np.hstack((received_signal[:offset_amount], np.zeros(equalizer_length-offset_amount)))\n",
    "    # handle edge case\n",
    "    if -channel_length+offset_amount >= 0:\n",
    "        offset_amount2 = len(received_signal)\n",
    "    else:\n",
    "        offset_amount2 = -channel_length+offset_amount\n",
    "    col = received_signal[offset_amount:offset_amount2]\n",
    "    col = np.hstack((col, np.zeros(len(received_signal)-channel_length+1-len(col))))\n",
    "    toeplitz = la.toeplitz(col,row)\n",
    "    return toeplitz\n",
    "\n",
    "def gen_matrix(signal, pre_chan_sig_len, L):  \n",
    "    order = 2*L+1\n",
    "    A = []\n",
    "    signal = np.pad(signal.flatten(), L, 'constant', constant_values=(0))\n",
    "    for i in range(pre_chan_sig_len):\n",
    "        A += [np.flip(signal[i: i+order],0)]\n",
    "    return np.array(A)\n",
    "# chan = channel(np.array(range(1,21)), [0,0,0,0,1])\n",
    "chan = np.array(range(1,21))\n",
    "print(len(chan), chan)\n",
    "print(gen_matrix(chan, 20, 10)) #order = 2L+1\n",
    "print(np.array(gen_toeplitz(chan, 1, 21), dtype=np.int))"
   ]
  },
  {
   "cell_type": "code",
   "execution_count": null,
   "metadata": {
    "collapsed": true
   },
   "outputs": [],
   "source": []
  }
 ],
 "metadata": {
  "kernelspec": {
   "display_name": "Python [default]",
   "language": "python",
   "name": "python2"
  },
  "language_info": {
   "codemirror_mode": {
    "name": "ipython",
    "version": 2
   },
   "file_extension": ".py",
   "mimetype": "text/x-python",
   "name": "python",
   "nbconvert_exporter": "python",
   "pygments_lexer": "ipython2",
   "version": "2.7.12"
  }
 },
 "nbformat": 4,
 "nbformat_minor": 1
}
