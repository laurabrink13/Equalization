{
 "cells": [
  {
   "cell_type": "code",
   "execution_count": 200,
   "metadata": {
    "collapsed": true
   },
   "outputs": [],
   "source": [
    "import numpy as np\n",
    "import numpy as np\n",
    "import commpy as cp\n",
    "import scipy.signal as sig\n",
    "import matplotlib.pyplot as plt\n",
    "%matplotlib inline"
   ]
  },
  {
   "cell_type": "code",
   "execution_count": null,
   "metadata": {
    "collapsed": true
   },
   "outputs": [],
   "source": [
    "\"\"\"# EXAMPLE DATA GENERATION SEQUENCE\n",
    "# define the number of constellation points\n",
    "c=4 \n",
    "# length of array of bits (must be divisible by c)\n",
    "n=4*c\n",
    "\n",
    "# create the modulation object with c constellation points\n",
    "QAMModem = cp.modulation.QAMModem(c)\n",
    "# create a random array of bits\n",
    "input_data_bits=np.random.randint(0,2,n) \n",
    "# use the constellation object to modulate the data bits into complex numbers\n",
    "input_data_constellations = QAMModem.modulate(input_data_bits)\n",
    "print(input_data_bits)\n",
    "print(input_data_constellations)\n",
    "# an example of a channel function with two consecutive taps\n",
    "channel_function=[0.7,0.3]\n",
    "# convolution of the input complex data with the channel transfer function\n",
    "channel_output = sig.convolve(input_data_constellations, channel_function, mode='full')\n",
    "print(channel_output)\n",
    "\n",
    "a = zfEqualize(channel_output, channel_function)\n",
    "print(len(channel_output))\n",
    "print(len(channel_function))\n",
    "print(len(a))\n",
    "for i in range(len(input_data_constellations)):\n",
    "    print(input_data_constellations[i], \"    \", a[i])\n",
    "    print(np.abs(input_data_constellations[i] - a[i]) < 5e-10)\n",
    "\n",
    "#print(input_data_constellations - a < 5e-10)\n",
    "print(QAMModem.demodulate(a, 'hard'))\n",
    "print(numFalses(input_data_bits, a, QAMModem))\"\"\""
   ]
  },
  {
   "cell_type": "code",
   "execution_count": 206,
   "metadata": {},
   "outputs": [],
   "source": [
    "# Function to zero force equalize. \n",
    "def zfEqualize(channel_output, channel):\n",
    "    # make sure have same fft length \n",
    "    # we get the correct number of terms as this is like a circular convolution so the last packet is garbage\n",
    "    freq_domain = np.fft.fft(channel_output, len(channel_output))/np.fft.fft(channel, len(channel_output))\n",
    "    return np.fft.ifft(freq_domain)[0:len(channel_output) - len(channel) + 1]\n",
    "\n",
    "# Count number of symbols that are off\n",
    "def numFalses(inbits, equalized_constellation, QAMModem):\n",
    "    outbits = QAMModem.demodulate(equalized_constellation, \"hard\")\n",
    "    total = 0\n",
    "    for i in range(len(inbits)):\n",
    "        if inbits[i] != outbits[i]:\n",
    "            total += 1\n",
    "    return total\n",
    "\n",
    "# Adds complex gaussian noise to inputted signal \n",
    "def addNoise(input_signal, noise_amp):   \n",
    "    n = len(input_signal)\n",
    "    noise = noise_amp*np.random.randn(2*n)\n",
    "    noisy_array = []\n",
    "    for i in range(len(input_signal)):\n",
    "        # used to construct complex noise with gaussian rv on both real and imag terms\n",
    "        noisy_array.append(input_signal[i] + noise[i] + noise[i+1]*1j)\n",
    "    return noisy_array\n",
    "\n",
    "# Generate data samples run them through a channel then equalize using zero force equalizer and return symbol error rate\n",
    "def find_SER(channel_len, noise_amp, runs = 1000, num_bits = 4 ):\n",
    "    # make modulator and message size\n",
    "    QAMModem = cp.modulation.QAMModem(c)\n",
    "    constellation = 4\n",
    "    n = constellation * num_bits\n",
    "    sym_errors = 0 \n",
    "\n",
    "    for i in range(runs):\n",
    "        # generate input bits and constellation\n",
    "        input_bits = np.random.randint(0,2,n) \n",
    "        input_constellation = QAMModem.modulate(input_bits)\n",
    "        # pass signal through random channel\n",
    "        channel_function= np.random.randn(channel_len)\n",
    "        channel_output = sig.convolve(input_constellation, channel_function, mode=\"full\")\n",
    "        channel_output = addNoise(channel_output, noise_amp)\n",
    "        # equalize, demodulate and calculate the symbol error rate\n",
    "        eqd = zfEqualize(channel_output, channel_function)\n",
    "        falses = numFalses(input_bits, eqd, QAMModem)\n",
    "        sym_errors += falses\n",
    "    sym_error_rate = sym_errors/(n*runs)\n",
    "    return sym_error_rate"
   ]
  },
  {
   "cell_type": "code",
   "execution_count": null,
   "metadata": {},
   "outputs": [],
   "source": [
    "# Calculate the symbol error rate for different noise magnitudes\n",
    "noise_mag_errs = []\n",
    "for i in np.arange(0, 1, 0.02):\n",
    "    noise_mag_errs.append(find_SER(2, i))"
   ]
  },
  {
   "cell_type": "code",
   "execution_count": null,
   "metadata": {},
   "outputs": [],
   "source": [
    "# Calculate the symbol error rate for different channel lengths for fixed noise magnitude = 0.4\n",
    "channel_mag_errs = []\n",
    "for i in np.arange(2, 20):\n",
    "    channel_mag_errs.append(find_SER(i, 0.4))"
   ]
  },
  {
   "cell_type": "code",
   "execution_count": null,
   "metadata": {},
   "outputs": [],
   "source": [
    "# Plot symbol error rate vs. noise magnitude and symbol error rate vs. channel length\n",
    "print(noise_mag_errs, \"\\n\")\n",
    "plt.figure()\n",
    "plt.title(\"Symbol error rate vs. Noise magnitude for fixed Channel Length = 2\")\n",
    "plt.plot(np.arange(0, 1, 0.02), noise_mag_errs)\n",
    "\n",
    "print(\"\\n\", channel_mag_errs, \"\\n\")\n",
    "plt.figure()\n",
    "plt.title(\"Symbol error rate vs. Channel Length for fixed Noise magnitude = 0.4\")\n",
    "plt.plot(np.arange(2,20), channel_mag_errs)"
   ]
  }
 ],
 "metadata": {
  "kernelspec": {
   "display_name": "Python 3",
   "language": "python",
   "name": "python3"
  },
  "language_info": {
   "codemirror_mode": {
    "name": "ipython",
    "version": 3
   },
   "file_extension": ".py",
   "mimetype": "text/x-python",
   "name": "python",
   "nbconvert_exporter": "python",
   "pygments_lexer": "ipython3",
   "version": "3.6.3"
  }
 },
 "nbformat": 4,
 "nbformat_minor": 2
}
