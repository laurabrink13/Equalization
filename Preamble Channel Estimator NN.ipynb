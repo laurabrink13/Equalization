{
 "cells": [
  {
   "cell_type": "code",
   "execution_count": 5,
   "metadata": {
    "collapsed": false
   },
   "outputs": [],
   "source": [
    "import numpy as np\n",
    "import scipy.signal as sig\n",
    "\n",
    "# Create training and test data for the NN\n",
    "\n",
    "# number of random channels that will be trained and tested on\n",
    "num_train=1000000\n",
    "num_test=10\n",
    "\n",
    "# assume we know the channel_length\n",
    "channel_length = 2\n",
    "num_preambles = 10\n",
    "preamble_length = 1000\n",
    "\n",
    "preambles = np.random.randint(0,2,(num_preambles,preamble_length)) \n",
    "\n",
    "# assume we are working with just real parts\n",
    "channel_train = np.zeros((num_train*num_preambles,channel_length))\n",
    "preamble_train = np.zeros((num_train*num_preambles, preamble_length))\n",
    "channel_test = np.zeros((num_test*num_preambles,channel_length))\n",
    "preamble_test = np.zeros((num_test*num_preambles, preamble_length))\n",
    "\n",
    "for i in range(0, num_train):\n",
    "    for k in range(num_preambles):\n",
    "        channel_train[i+k,:]=np.random.uniform(0.2,1,2)\n",
    "        # if the total power is greater than 1, then normalize\n",
    "        if sum(channel_train[i+k])>=1:\n",
    "            channel_train[i+k] = channel_train[i+k]/(sum(channel_train[i+k]))\n",
    "        preamble_train[i+k,:] = sig.convolve(preambles[k], channel_train[i+k], mode='same')\n",
    "        \n",
    "for i in range(0, num_test):\n",
    "    for k in range(num_preambles):\n",
    "        channel_test[i+k,:]=np.random.uniform(0.2,1,2)\n",
    "        # if the total power is greater than 1, then normalize\n",
    "        if sum(channel_test[i+k])>=1:\n",
    "            channel_test[i+k] = channel_test[i+k]/(sum(channel_test[i+k]))\n",
    "        preamble_test[i+k,:] = sig.convolve(preambles[k], channel_test[i], mode='same')\n",
    "    "
   ]
  },
  {
   "cell_type": "code",
   "execution_count": 4,
   "metadata": {
    "collapsed": false
   },
   "outputs": [
    {
     "name": "stdout",
     "output_type": "stream",
     "text": [
      "Epoch 0, Cost 0.3728514611721039, MC Cost: 0.040838394314050674\n",
      "Epoch 100, Cost 3.8231853977777064e-05, MC Cost: 0.014036059379577637\n",
      "Epoch 200, Cost 1.69208251463715e-05, MC Cost: 0.013782438822090626\n",
      "Epoch 300, Cost 7.688170626352075e-06, MC Cost: 0.01379319652915001\n",
      "Epoch 400, Cost 4.226171313348459e-06, MC Cost: 0.013932604342699051\n",
      "Epoch 500, Cost 2.7686337489285506e-06, MC Cost: 0.014075696468353271\n",
      "Epoch 600, Cost 2.455155936331721e-06, MC Cost: 0.014167743735015392\n",
      "Epoch 700, Cost 2.2668698420602595e-06, MC Cost: 0.014212743379175663\n",
      "Epoch 800, Cost 2.382094862696249e-06, MC Cost: 0.01423008181154728\n",
      "Epoch 900, Cost 2.1701064270018833e-06, MC Cost: 0.014237063005566597\n"
     ]
    },
    {
     "data": {
      "image/png": "[encoded data removed]",
      "text/plain": [
       "<matplotlib.figure.Figure at 0x12e98f908>"
      ]
     },
     "metadata": {},
     "output_type": "display_data"
    }
   ],
   "source": [
    "import numpy as np\n",
    "from numpy import linalg as LA\n",
    "import tensorflow as tf\n",
    "import matplotlib.pyplot as plt\n",
    "%matplotlib inline\n",
    "# fix random seed for reproducibility\n",
    "np.random.seed()\n",
    "\n",
    "m = 2 # of consecutive taps\n",
    "learning_rate = 0.001\n",
    "epochs = 1000\n",
    "batch_size = 1000\n",
    "test_averaging=100\n",
    "decay = 1 - 10*1e-10\n",
    "\n",
    "num_train = 1000000\n",
    "\n",
    "# declare the training data placeholders\n",
    "# input x - just one is x0\n",
    "real_channel = tf.placeholder(tf.float32, [None, m])\n",
    "received_preamble = tf.placeholder(tf.float32, [None, preamble_length])\n",
    "\n",
    "layer_1 = tf.layers.dense(\n",
    "  received_preamble, 150, tf.nn.tanh, use_bias=True)\n",
    "layer_2 = tf.layers.dense(\n",
    "  layer_1, 150, tf.nn.tanh, use_bias=True)\n",
    "layer_3 = tf.layers.dense(\n",
    "  layer_2, m, activation=tf.identity, use_bias=True)\n",
    "\n",
    "estimated_channel = layer_3\n",
    "\n",
    "\n",
    "adaptive_learning_rate = tf.placeholder_with_default(learning_rate, [])\n",
    "\n",
    "est_cost = tf.reduce_mean(tf.reduce_mean((real_channel-estimated_channel)**2, axis=1))\n",
    "\n",
    "optimizer = tf.train.AdamOptimizer(learning_rate=adaptive_learning_rate).minimize(est_cost)\n",
    "                                                                                  \n",
    "# finally setup the initialisation operator\n",
    "init_op = tf.global_variables_initializer()\n",
    "\n",
    "plt.figure()\n",
    "\n",
    "# start the session\n",
    "with tf.Session() as sess:\n",
    "    #    initialize the variables\n",
    "    sess.run(init_op)\n",
    "    mc_losses = []\n",
    "        \n",
    "    for epoch in range(epochs):\n",
    "        \n",
    "        channel_batch = [1,0]\n",
    "        identity_channel = np.zeros(channel_length)\n",
    "        identity_channel[0] = 1\n",
    "        preamble_batch = sig.convolve(preambles[0], identity_channel, mode='full')[:preamble_length]\n",
    "\n",
    "        for rand in range(0, batch_size-1):\n",
    "            rand_int = np.random.randint(0,num_train)\n",
    "            channel_batch = np.vstack((channel_batch, channel_train[rand_int]))\n",
    "            preamble_batch = np.vstack((preamble_batch, preamble_train[rand_int]))\n",
    "            \n",
    "        channel_batch.reshape((batch_size, m))\n",
    "        preamble_batch.reshape((batch_size, preamble_length))\n",
    "        \n",
    "        _,cost,estimated_channel2 = sess.run([optimizer, est_cost, estimated_channel], \n",
    "                                          feed_dict={real_channel: channel_batch, received_preamble: preamble_batch,\n",
    "                         adaptive_learning_rate: learning_rate * (decay**epoch)})\n",
    "            \n",
    "        if epoch % 100 == 0: \n",
    "            plt.plot(epoch, cost, 'bo')\n",
    "            try:\n",
    "                mc_cost, mc_estimate = sess.run([est_cost, estimated_channel], \n",
    "                                                 feed_dict={real_channel: channel_test, \n",
    "                                                            received_preamble: preamble_test})\n",
    "            except Exception as e:\n",
    "                print(e)\n",
    "            print('Epoch {}, Cost {}, MC Cost: {}'.format(epoch, cost, mc_cost))\n",
    "\n",
    "    \n",
    "plt.show()"
   ]
  },
  {
   "cell_type": "code",
   "execution_count": null,
   "metadata": {
    "collapsed": true
   },
   "outputs": [],
   "source": []
  },
  {
   "cell_type": "code",
   "execution_count": null,
   "metadata": {
    "collapsed": true
   },
   "outputs": [],
   "source": []
  }
 ],
 "metadata": {
  "kernelspec": {
   "display_name": "Python 3",
   "language": "python",
   "name": "python3"
  },
  "language_info": {
   "codemirror_mode": {
    "name": "ipython",
    "version": 3
   },
   "file_extension": ".py",
   "mimetype": "text/x-python",
   "name": "python",
   "nbconvert_exporter": "python",
   "pygments_lexer": "ipython3",
   "version": "3.4.5"
  }
 },
 "nbformat": 4,
 "nbformat_minor": 0
}
