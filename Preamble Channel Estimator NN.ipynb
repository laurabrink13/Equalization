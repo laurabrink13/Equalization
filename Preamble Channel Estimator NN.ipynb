{
 "cells": [
  {
   "cell_type": "code",
   "execution_count": null,
   "metadata": {
    "collapsed": false
   },
   "outputs": [],
   "source": [
    "import numpy as np\n",
    "import scipy.signal as sig\n",
    "\n",
    "# Create training and test data for the NN\n",
    "\n",
    "# number of random channels that will be trained and tested on\n",
    "num_train=1000000\n",
    "num_test=10\n",
    "\n",
    "# assume we know the channel_length\n",
    "channel_length = 2\n",
    "num_preambles = 10\n",
    "preamble_length = 10\n",
    "\n",
    "preambles = np.random.randint(0,2,(num_preambles,preamble_length)) \n",
    "\n",
    "# assume we are working with just real parts\n",
    "channel_train = np.zeros((num_train,channel_length))\n",
    "preamble_train = np.zeros((num_train*num_preambles, preamble_length))\n",
    "channel_test = np.zeros((num_test,channel_length))\n",
    "preamble_test = np.zeros((num_test*num_preambles, preamble_length))\n",
    "\n",
    "for i in range(0, num_train):\n",
    "    channel_train[i,:]=np.random.uniform(0.2,1,2)\n",
    "    # if the total power is greater than 1, then normalize\n",
    "    if sum(channel_train[i])>=1:\n",
    "        channel_train[i] = channel_train[i]/(sum(channel_train[i]))\n",
    "    \n",
    "    for k in range(num_preambles):\n",
    "        preamble_train[i+k,:] = sig.convolve(preambles[k], channel_train[i], mode='same')\n",
    "        \n",
    "        \n",
    "for i in range(0, num_test):\n",
    "    channel_test[i,:]=np.random.uniform(0.2,1,2)\n",
    "    # if the total power is greater than 1, then normalize\n",
    "    if sum(channel_test[i])>=1:\n",
    "        channel_test[i] = channel_test[i]/(sum(channel_test[i]))\n",
    "        \n",
    "    for k in range(num_preambles):\n",
    "        preamble_test[i+k,:] = sig.convolve(preambles[k], channel_test[i], mode='same')\n",
    "    "
   ]
  },
  {
   "cell_type": "code",
   "execution_count": 2,
   "metadata": {
    "collapsed": false
   },
   "outputs": [
    {
     "ename": "NameError",
     "evalue": "name 'recieved_preamble' is not defined",
     "output_type": "error",
     "traceback": [
      "\u001b[0;31m---------------------------------------------------------------------------\u001b[0m",
      "\u001b[0;31mNameError\u001b[0m                                 Traceback (most recent call last)",
      "\u001b[0;32m<ipython-input-2-710a804d68fd>\u001b[0m in \u001b[0;36m<module>\u001b[0;34m()\u001b[0m\n\u001b[1;32m     63\u001b[0m \u001b[0;34m\u001b[0m\u001b[0m\n\u001b[1;32m     64\u001b[0m         _,cost,estimated_channel2 = sess.run([optimizer, est_cost, estimated_channel], \n\u001b[0;32m---> 65\u001b[0;31m                                           feed_dict={real_channel: channel_batch, recieved_preamble: preamble_batch,\n\u001b[0m\u001b[1;32m     66\u001b[0m                          adaptive_learning_rate: learning_rate * (decay**epoch)})\n\u001b[1;32m     67\u001b[0m \u001b[0;34m\u001b[0m\u001b[0m\n",
      "\u001b[0;31mNameError\u001b[0m: name 'recieved_preamble' is not defined"
     ]
    },
    {
     "data": {
      "text/plain": [
       "<matplotlib.figure.Figure at 0x1888960b8>"
      ]
     },
     "metadata": {},
     "output_type": "display_data"
    }
   ],
   "source": [
    "import numpy as np\n",
    "from numpy import linalg as LA\n",
    "import tensorflow as tf\n",
    "import matplotlib.pyplot as plt\n",
    "%matplotlib inline\n",
    "# fix random seed for reproducibility\n",
    "np.random.seed()\n",
    "\n",
    "m = 2 # of consecutive taps\n",
    "learning_rate = 0.001\n",
    "epochs = 10000\n",
    "batch_size = 1000\n",
    "test_averaging=100\n",
    "decay = 1 - 10*1e-10\n",
    "\n",
    "num_train = 1000000\n",
    "\n",
    "# declare the training data placeholders\n",
    "# input x - just one is x0\n",
    "real_channel = tf.placeholder(tf.float32, [None, m])\n",
    "received_preamble = tf.placeholder(tf.float32, [None, preamble_length])\n",
    "\n",
    "layer_1 = tf.layers.dense(\n",
    "  received_preamble, 150, tf.nn.tanh, use_bias=True)\n",
    "layer_2 = tf.layers.dense(\n",
    "  layer_1, 150, tf.nn.tanh, use_bias=True)\n",
    "layer_3 = tf.layers.dense(\n",
    "  layer_2, m, activation=tf.identity, use_bias=True)\n",
    "\n",
    "estimated_channel = layer_3\n",
    "\n",
    "\n",
    "adaptive_learning_rate = tf.placeholder_with_default(learning_rate, [])\n",
    "\n",
    "est_cost = tf.reduce_mean(tf.reduce_mean((real_channel-estimated_channel)**2, axis=1))\n",
    "\n",
    "optimizer = tf.train.AdamOptimizer(learning_rate=adaptive_learning_rate).minimize(est_cost)\n",
    "                                                                                  \n",
    "# finally setup the initialisation operator\n",
    "init_op = tf.global_variables_initializer()\n",
    "\n",
    "plt.figure()\n",
    "\n",
    "# start the session\n",
    "with tf.Session() as sess:\n",
    "    #    initialize the variables\n",
    "    sess.run(init_op)\n",
    "    mc_losses = []\n",
    "        \n",
    "    for epoch in range(epochs):\n",
    "        \n",
    "        channel_batch = [1,0]\n",
    "        identity_channel = np.zeros(channel_length)\n",
    "        identity_channel[0] = 1\n",
    "        preamble_batch = sig.convolve(preambles[0], identity_channel, mode='same')\n",
    "        for rand in range(0,batch_size-1):\n",
    "            rand_int = np.random.randint(0,num_train)\n",
    "            channel_batch = np.vstack((channel_batch, channel_train[rand_int]))\n",
    "            preamble_batch = np.vstack((preamble_batch, preamble_train[rand_int]))\n",
    "            \n",
    "        channel_batch = channel_batch.reshape((batch_size, m))\n",
    "        preamble_batch.reshape((batch_size, preamble_length))\n",
    "        \n",
    "        _,cost,estimated_channel2 = sess.run([optimizer, est_cost, estimated_channel], \n",
    "                                          feed_dict={real_channel: channel_batch, received_preamble: preamble_batch,\n",
    "                         adaptive_learning_rate: learning_rate * (decay**epoch)})\n",
    "        \n",
    "            \n",
    "        if epoch % 100 == 0: \n",
    "            plt.plot(epoch, cost, 'bo')\n",
    "            mc_cost, mc_estimate = sess.run([est_cost, estimated_channel], \n",
    "                                             feed_dict={real_channel: channel_test, \n",
    "                                                        received_preamble: preamble_batch})\n",
    "            print('Epoch {}, Cost {}, MC Cost: {}'.format(epoch, cost, mc_cost))\n",
    "\n",
    "    \n",
    "plt.show()"
   ]
  },
  {
   "cell_type": "code",
   "execution_count": null,
   "metadata": {
    "collapsed": true
   },
   "outputs": [],
   "source": []
  },
  {
   "cell_type": "code",
   "execution_count": null,
   "metadata": {
    "collapsed": true
   },
   "outputs": [],
   "source": []
  }
 ],
 "metadata": {
  "kernelspec": {
   "display_name": "Python 3",
   "language": "python",
   "name": "python3"
  },
  "language_info": {
   "codemirror_mode": {
    "name": "ipython",
    "version": 3
   },
   "file_extension": ".py",
   "mimetype": "text/x-python",
   "name": "python",
   "nbconvert_exporter": "python",
   "pygments_lexer": "ipython3",
   "version": "3.4.5"
  }
 },
 "nbformat": 4,
 "nbformat_minor": 0
}
