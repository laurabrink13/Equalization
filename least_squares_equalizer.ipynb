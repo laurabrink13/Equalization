{
 "cells": [
  {
   "cell_type": "code",
   "execution_count": 200,
   "metadata": {
    "collapsed": true
   },
   "outputs": [],
   "source": [
    "import numpy as np\n",
    "import numpy as np\n",
    "import scipy.signal as sig\n",
    "import matplotlib.pyplot as plt\n",
    "%matplotlib inline"
   ]
  },
  {
   "cell_type": "code",
   "execution_count": null,
   "metadata": {},
   "outputs": [],
   "source": [
    "def test(channel_length=10, snr=1, preamble_length=100, runs=1000):\n",
    "    avg_bit_error = 0.\n",
    "    for i in range(runs):\n",
    "        # generate random channel\n",
    "        channel = gen_rand_channel(channel_length)\n",
    "        # generate train data [the preamble]\n",
    "        train_data = gen_rand_data(preamble_length)\n",
    "        received_train_data = apply_channel(channel, train_data, snr)\n",
    "        # generate test data\n",
    "        test_data = gen_rand_data(10*preamble_length)\n",
    "        received_test_data = apply_channel(channel, test_data)\n",
    "        # gradient descent\n",
    "        h_E = learn_equalizer(channel_length, received_train_data, train_data)\n",
    "        # test on output\n",
    "        evaluation = evaulate_equalizer(h_E, received_test_data, test_data)\n",
    "        avg_bit_error += evaluation\n",
    "    return avg_bit_error / runs"
   ]
  },
  {
   "cell_type": "code",
   "execution_count": null,
   "metadata": {},
   "outputs": [],
   "source": [
    "def learn_equalizer(h_len, x, y, steps=100, LR=1e-3):\n",
    "    h = np.zeros(h_len)\n",
    "    error = np.dot(x, h) - y\n",
    "    while steps > 0:\n",
    "        grad_update = np.dot(np.dot(x.T, x), h) - np.dot(x.T, y)\n",
    "        h = h - LR*grad_upate"
   ]
  },
  {
   "cell_type": "code",
   "execution_count": null,
   "metadata": {},
   "outputs": [],
   "source": [
    "def apply_channel(channel, channel_input, snr):\n",
    "    out = sig.convolve(channel_input, channel, mode=\"full\")\n",
    "    # SNR: signal power is fixed at 1 in our model, so just scale the noise\n",
    "    gaussian_noise = np.random.normal(loc=0.0, scale=1/np.sqrt(snr), out.shape)\n",
    "    return out + gaussian_noise"
   ]
  },
  {
   "cell_type": "code",
   "execution_count": null,
   "metadata": {},
   "outputs": [],
   "source": [
    "def evaluate_equalizer(h_E, received_messages, true_messages):\n",
    "    "
   ]
  }
 ],
 "metadata": {
  "kernelspec": {
   "display_name": "Python 2",
   "language": "python",
   "name": "python2"
  },
  "language_info": {
   "codemirror_mode": {
    "name": "ipython",
    "version": 2
   },
   "file_extension": ".py",
   "mimetype": "text/x-python",
   "name": "python",
   "nbconvert_exporter": "python",
   "pygments_lexer": "ipython2",
   "version": "2.7.14"
  }
 },
 "nbformat": 4,
 "nbformat_minor": 2
}
