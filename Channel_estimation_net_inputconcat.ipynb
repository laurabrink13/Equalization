{
 "cells": [
  {
   "cell_type": "markdown",
   "metadata": {},
   "source": [
    "### 3 layer NN, fully connected, 3*preamble_length node layers, nn.tanh activation - output layer identity preamble_length = 100, channel size = 2\n",
    "### Generate training data: channels and approximate channel inverses \n",
    "### Generate test data: channels and approximate channel inverses"
   ]
  },
  {
   "cell_type": "code",
   "execution_count": 45,
   "metadata": {},
   "outputs": [],
   "source": [
    "import numpy as np\n",
    "import scipy.signal as sig\n",
    "from numpy import linalg as LA\n",
    "import tensorflow as tf\n",
    "import matplotlib.pyplot as plt\n",
    "%matplotlib inline\n",
    "\n",
    "# Create training and test data for the NN\n",
    "\n",
    "# number of random channels that will be trained and tested on\n",
    "num_train=500000# 1000000\n",
    "num_test=10000\n",
    "SNR = 10\n",
    "\n",
    "# assume we know the channel_length\n",
    "channel_length = 2\n",
    "num_preambles = 1\n",
    "preamble_length = 100\n",
    "recieved_length = preamble_length + channel_length - 1\n",
    "\n",
    "preambles = np.random.randint(0,2,(num_preambles,preamble_length)) \n",
    "\n",
    "def add_awgn_noise(signal,SNR_dB):\n",
    "    \"\"\"  Adds AWGN noise vector to signal \n",
    "         to generate a resulting signal vector y of specified SNR in dB\n",
    "    \"\"\"\n",
    "    L=len(signal)\n",
    "    SNR = 10**(SNR_dB/10.0) #SNR to linear scale\n",
    "    Esym=np.sum(np.square(np.abs(signal)))/L #Calculate actual symbol energy\n",
    "    N0=Esym/SNR; #Find the noise spectral density\n",
    "    if(isinstance(signal[0], complex)):\n",
    "        noiseSigma=np.sqrt(N0/2.0)#Standard deviation for AWGN Noise when x is complex\n",
    "        n = noiseSigma*(np.random.randn(1,L)+1j*np.random.randn(1,L))#computed noise \n",
    "    else:\n",
    "        noiseSigma = np.sqrt(N0);#Standard deviation for AWGN Noise when x is real\n",
    "        n = noiseSigma*np.random.randn(1,L)#computed noise\n",
    "    y = signal + n #received signal\n",
    "    return signal\n",
    "\n",
    "# channel_train: assume we are working with just real parts, list of all used channels\n",
    "# preamble_train: use same channel on num_preambles different preambles and store them to train with: \n",
    "#               [actual preamble, convolved preamble of same size]\n",
    "channel_train = np.zeros((num_train,channel_length))\n",
    "preamble_train = np.zeros((num_train*num_preambles, preamble_length*2))\n",
    "\n",
    "channel_test = np.zeros((num_test,channel_length))\n",
    "preamble_test = np.zeros((num_test*num_preambles, preamble_length*2))"
   ]
  },
  {
   "cell_type": "code",
   "execution_count": 46,
   "metadata": {},
   "outputs": [],
   "source": [
    "# Create data with training data to be [preamble, convolved preamble]\n",
    "\n",
    "for i in range(0, num_train):\n",
    "    channel_train[i,:]=np.random.uniform(0.2,1,channel_length)\n",
    "    # if the total power is greater than 1, then normalize\n",
    "    if sum(channel_train[i])>=1:\n",
    "        channel_train[i] = channel_train[i]/(sum(channel_train[i]))\n",
    "        \n",
    "    for k in range(num_preambles):\n",
    "        preamble_conv = add_awgn_noise(sig.convolve(preambles[k], channel_train[i], mode='same'), SNR)\n",
    "        preamble_total = np.hstack((preambles[k], preamble_conv))\n",
    "        preamble_train[i+k,:] = preamble_total\n",
    "        \n",
    "        \n",
    "for i in range(0, num_test):\n",
    "    channel_test[i,:]=np.random.uniform(0.2,1,channel_length)\n",
    "    # if the total power is greater than 1, then normalize\n",
    "    if sum(channel_test[i])>=1:\n",
    "        channel_test[i] = channel_test[i]/(sum(channel_test[i]))\n",
    "        \n",
    "    for k in range(num_preambles):\n",
    "        preamble_conv = add_awgn_noise(sig.convolve(preambles[k], channel_test[i], mode='same'), SNR)\n",
    "        preamble_total = np.hstack((preambles[k], preamble_conv))\n",
    "        preamble_test[i+k,:] = preamble_total\n"
   ]
  },
  {
   "cell_type": "code",
   "execution_count": 93,
   "metadata": {
    "scrolled": false
   },
   "outputs": [
    {
     "name": "stdout",
     "output_type": "stream",
     "text": [
      "Epoch 0, Cost 0.0813678428530693, Test Cost: 1.0219265222549438\n",
      "Epoch 10, Cost 0.16996434330940247, Test Cost: 0.033606480807065964\n",
      "Epoch 20, Cost 0.08418351411819458, Test Cost: 0.048768654465675354\n",
      "Epoch 30, Cost 0.02376428246498108, Test Cost: 0.026496006175875664\n",
      "Epoch 40, Cost 0.005893978755921125, Test Cost: 0.010056400671601295\n",
      "Epoch 50, Cost 0.0020843215752393007, Test Cost: 0.0036772850435227156\n",
      "Epoch 60, Cost 0.001126085058785975, Test Cost: 0.00138063111808151\n",
      "Epoch 70, Cost 0.0005337228067219257, Test Cost: 0.00034000413143076\n",
      "Epoch 80, Cost 0.0001321509771514684, Test Cost: 2.2022657503839582e-05\n",
      "Epoch 90, Cost 1.1929497304663528e-05, Test Cost: 4.7061312216101214e-05\n",
      "Epoch 100, Cost 2.8512698918348178e-05, Test Cost: 2.2081940187490545e-05\n",
      "Epoch 110, Cost 5.749458978243638e-06, Test Cost: 6.08174423177843e-06\n",
      "Epoch 120, Cost 7.608994110341882e-06, Test Cost: 5.9745630096585955e-06\n",
      "Epoch 130, Cost 4.6480736273224466e-06, Test Cost: 4.545745468931273e-06\n",
      "Epoch 140, Cost 4.279608219803777e-06, Test Cost: 4.009475105704041e-06\n",
      "Epoch 150, Cost 4.419985998538323e-06, Test Cost: 3.938645477319369e-06\n",
      "Epoch 160, Cost 4.068667294632178e-06, Test Cost: 3.951062808482675e-06\n",
      "Epoch 170, Cost 4.061239906150149e-06, Test Cost: 3.896384896506788e-06\n",
      "Epoch 180, Cost 4.0989684748637956e-06, Test Cost: 3.904669028997887e-06\n",
      "Epoch 190, Cost 3.7948941553622717e-06, Test Cost: 3.839513738057576e-06\n",
      "Epoch 200, Cost 4.165199698036304e-06, Test Cost: 3.868421572406078e-06\n",
      "Epoch 210, Cost 4.092678864253685e-06, Test Cost: 3.834081326203886e-06\n",
      "Epoch 220, Cost 4.066758720000507e-06, Test Cost: 3.811795750152669e-06\n",
      "Epoch 230, Cost 3.92455422115745e-06, Test Cost: 3.7619076920236694e-06\n",
      "Epoch 240, Cost 4.042943146487232e-06, Test Cost: 3.7320264709705953e-06\n",
      "Epoch 250, Cost 4.005789833172457e-06, Test Cost: 3.732267032319214e-06\n",
      "Epoch 260, Cost 3.961819402320543e-06, Test Cost: 3.6970832297811285e-06\n",
      "Epoch 270, Cost 4.739219548355322e-06, Test Cost: 3.994624421466142e-06\n",
      "Epoch 280, Cost 4.395886207930744e-06, Test Cost: 3.7248294120217906e-06\n",
      "Epoch 290, Cost 3.942386683775112e-06, Test Cost: 3.6275155252951663e-06\n",
      "Epoch 300, Cost 4.893757704849122e-06, Test Cost: 4.058328158862423e-06\n",
      "Epoch 310, Cost 2.1497686248039827e-05, Test Cost: 3.257054777350277e-05\n",
      "Epoch 320, Cost 0.0020414108876138926, Test Cost: 0.0015577623853459954\n",
      "Epoch 330, Cost 0.0003595251764636487, Test Cost: 0.0005836808704771101\n",
      "Epoch 340, Cost 0.00016014010179787874, Test Cost: 0.0002224209747510031\n",
      "Epoch 350, Cost 5.954202060820535e-05, Test Cost: 7.891846325946972e-05\n",
      "Epoch 360, Cost 1.2844001503253821e-05, Test Cost: 2.398547439952381e-05\n",
      "Epoch 370, Cost 3.892037511832314e-06, Test Cost: 5.24315919392393e-06\n",
      "Epoch 380, Cost 1.1577632903936319e-05, Test Cost: 8.060510481300298e-06\n",
      "Epoch 390, Cost 3.3764895306376275e-06, Test Cost: 3.8796893022663426e-06\n",
      "Epoch 400, Cost 3.978450422437163e-06, Test Cost: 3.7452921333169797e-06\n",
      "Epoch 410, Cost 3.437526402194635e-06, Test Cost: 3.3933788472495507e-06\n",
      "Epoch 420, Cost 3.708257963808137e-06, Test Cost: 3.4040331229334697e-06\n",
      "Epoch 430, Cost 1.4040150745131541e-05, Test Cost: 2.0659444999182597e-05\n",
      "Epoch 440, Cost 0.002105500316247344, Test Cost: 0.0031465673819184303\n",
      "Epoch 450, Cost 0.0005872726906090975, Test Cost: 5.669084202963859e-06\n",
      "Epoch 460, Cost 8.79191211424768e-05, Test Cost: 3.345168079249561e-05\n",
      "Epoch 470, Cost 4.038693532493198e-06, Test Cost: 7.225003355415538e-05\n",
      "Epoch 480, Cost 1.3950535503681749e-05, Test Cost: 4.9192007281817496e-05\n",
      "Epoch 490, Cost 7.825221473467536e-06, Test Cost: 1.906155921460595e-05\n",
      "Epoch 500, Cost 3.3742503546818625e-06, Test Cost: 7.03608020558022e-06\n",
      "Epoch 510, Cost 3.6561398246703902e-06, Test Cost: 3.324540330140735e-06\n",
      "Epoch 520, Cost 5.386038537835702e-06, Test Cost: 4.412270754983183e-06\n",
      "Epoch 530, Cost 3.4380252600385575e-06, Test Cost: 3.754084445972694e-06\n",
      "Epoch 540, Cost 3.989156084571732e-06, Test Cost: 3.6120115964877186e-06\n",
      "Epoch 550, Cost 2.882349008359597e-06, Test Cost: 3.1276858862838708e-06\n",
      "Epoch 560, Cost 3.667666078399634e-06, Test Cost: 3.4951037832797738e-06\n",
      "Epoch 570, Cost 3.7971799429215025e-06, Test Cost: 3.865926828439115e-06\n",
      "Epoch 580, Cost 7.018119049462257e-06, Test Cost: 7.365229066635948e-06\n",
      "Epoch 590, Cost 0.00015085625636857003, Test Cost: 0.00023654096003156155\n",
      "Epoch 600, Cost 0.0039900424890220165, Test Cost: 0.002417213749140501\n",
      "Epoch 610, Cost 0.0004386901273392141, Test Cost: 0.0009233283926732838\n",
      "Epoch 620, Cost 4.6123910578899086e-05, Test Cost: 0.0002296159800607711\n",
      "Epoch 630, Cost 7.979224392329343e-06, Test Cost: 6.662221858277917e-05\n",
      "Epoch 640, Cost 4.295818598620826e-06, Test Cost: 1.1483845810289495e-05\n",
      "Epoch 650, Cost 1.3910343113821e-05, Test Cost: 4.373962383397156e-06\n",
      "Epoch 660, Cost 1.2215025890327524e-05, Test Cost: 9.514932571619283e-06\n",
      "Epoch 670, Cost 3.3722692478477256e-06, Test Cost: 3.6021426694787806e-06\n",
      "Epoch 680, Cost 4.3975132939522155e-06, Test Cost: 3.4406102713546716e-06\n",
      "Epoch 690, Cost 3.62424702871067e-06, Test Cost: 3.0425592285610037e-06\n",
      "Epoch 700, Cost 3.952990027755732e-06, Test Cost: 3.9476385609305e-06\n",
      "Epoch 710, Cost 3.242127377234283e-06, Test Cost: 2.991404016938759e-06\n",
      "Epoch 720, Cost 3.5041814498981694e-06, Test Cost: 2.981448460559477e-06\n",
      "Epoch 730, Cost 3.5889352147933096e-06, Test Cost: 2.8690849376289407e-06\n",
      "Epoch 740, Cost 6.010367542330641e-06, Test Cost: 5.987665645079687e-06\n",
      "Epoch 750, Cost 5.711669655283913e-05, Test Cost: 8.978557889349759e-05\n",
      "Epoch 760, Cost 0.005736742168664932, Test Cost: 0.006525485310703516\n",
      "Epoch 770, Cost 0.0003229013818781823, Test Cost: 7.024810474831611e-05\n",
      "Epoch 780, Cost 0.00017258082516491413, Test Cost: 1.4414076758839656e-05\n",
      "Epoch 790, Cost 1.6033422070904635e-05, Test Cost: 3.643588934210129e-05\n",
      "Epoch 800, Cost 2.9677466955035925e-06, Test Cost: 3.250379450037144e-05\n",
      "Epoch 810, Cost 2.8833417218265822e-06, Test Cost: 1.283362325921189e-05\n",
      "Epoch 820, Cost 3.91998355553369e-06, Test Cost: 4.443489160621539e-06\n",
      "Epoch 830, Cost 5.012982910557184e-06, Test Cost: 2.9597774755529827e-06\n",
      "Epoch 840, Cost 3.1194085750030354e-06, Test Cost: 2.9371826713031624e-06\n",
      "Epoch 850, Cost 3.757056219910737e-06, Test Cost: 3.7291108583303867e-06\n",
      "Epoch 860, Cost 3.590190772229107e-06, Test Cost: 3.318714789202204e-06\n",
      "Epoch 870, Cost 3.058472429984249e-06, Test Cost: 2.668889237611438e-06\n",
      "Epoch 880, Cost 2.8978877253393875e-06, Test Cost: 2.8478320928115863e-06\n",
      "Epoch 890, Cost 3.0745616186322877e-06, Test Cost: 2.6633522338670446e-06\n",
      "Epoch 900, Cost 3.231721393603948e-06, Test Cost: 2.7994049105473096e-06\n",
      "Epoch 910, Cost 3.828162334684748e-06, Test Cost: 2.9675413770746673e-06\n",
      "Epoch 920, Cost 2.9624634407809936e-06, Test Cost: 2.7188370950170793e-06\n",
      "Epoch 930, Cost 4.259655270288931e-06, Test Cost: 4.524628820945509e-06\n",
      "Epoch 940, Cost 1.1979903320025187e-05, Test Cost: 1.3500472960004117e-05\n",
      "Epoch 950, Cost 0.000251143443165347, Test Cost: 0.0003788386529777199\n",
      "Epoch 960, Cost 0.0056479196064174175, Test Cost: 0.00391372200101614\n",
      "Epoch 970, Cost 8.042697299970314e-05, Test Cost: 0.0006975220749154687\n",
      "Epoch 980, Cost 5.2538642194122076e-05, Test Cost: 4.7198809625115246e-05\n",
      "Epoch 990, Cost 4.7319561417680234e-05, Test Cost: 4.865640221396461e-06\n"
     ]
    },
    {
     "data": {
      "image/png": "[encoded data removed]",
      "text/plain": [
       "<matplotlib.figure.Figure at 0x15f3ff160>"
      ]
     },
     "metadata": {},
     "output_type": "display_data"
    }
   ],
   "source": [
    "# fix a random seed to have the same results\n",
    "np.random.seed()\n",
    "\n",
    "learning_rate = 0.001\n",
    "epochs = 1000#10000\n",
    "batch_size = 1000\n",
    "test_averaging=100\n",
    "decay = 1 - 10*1e-10\n",
    "\n",
    "# placeholders for input and output\n",
    "adaptive_learning_rate = tf.placeholder_with_default(learning_rate, [])\n",
    "recieved_preamble = tf.placeholder(tf.float32, [None, preamble_length*2])\n",
    "channel_real = tf.placeholder(tf.float32, [None, channel_length])\n",
    "\n",
    "layer1 = tf.contrib.layers.fully_connected(recieved_preamble, num_outputs=3*preamble_length, activation_fn=tf.nn.tanh)\n",
    "#layer2 = tf.contrib.layers.fully_connected(layer1, num_outputs=3*preamble_length, activation_fn=tf.nn.tanh)\n",
    "layer3 = tf.contrib.layers.fully_connected(layer1, num_outputs=channel_length, activation_fn=tf.identity)\n",
    "\n",
    "channel_estimate = layer3\n",
    "\n",
    "cost_fn = tf.reduce_mean(tf.reduce_mean((channel_real-channel_estimate)**2, axis=1))\n",
    "optimizer = tf.train.AdamOptimizer(learning_rate=adaptive_learning_rate).minimize(cost_fn)\n",
    "\n",
    "init = tf.global_variables_initializer()\n",
    "saver = tf.train.Saver()\n",
    "plt.figure()\n",
    "\n",
    "test_costs =[]\n",
    "test_channels = []\n",
    "train_costs = []\n",
    "train_channels =[]\n",
    "\n",
    "with tf.Session() as sess:\n",
    "    sess.run(init)\n",
    "    \n",
    "    for epoch in range(epochs):\n",
    "        \n",
    "        # for each batch start the batch with passing the first preamble through the identity channel\n",
    "        identity_channel = np.zeros(channel_length)\n",
    "        identity_channel[0] = 1\n",
    "        preamble_conv_id = sig.convolve(preambles[0], identity_channel, mode='same')\n",
    "        preamble_batch = np.hstack((preambles[0], preamble_conv_id))\n",
    "        \n",
    "        real_channel_batch = identity_channel\n",
    "        \n",
    "        for rand in range(0,batch_size-1):\n",
    "            rand_int = np.random.randint(0,num_train*num_preambles)\n",
    "            preamble_batch = np.vstack((preamble_batch, preamble_train[rand_int]))\n",
    "            real_channel_batch = np.vstack((real_channel_batch, channel_train[rand_int]))\n",
    "            \n",
    "        preamble_batch.reshape((batch_size, preamble_length*2))\n",
    "        real_channel_batch.reshape((batch_size, channel_length))\n",
    "        \n",
    "        _,cost,channel_est = sess.run(\n",
    "            [optimizer, cost_fn, channel_estimate], \n",
    "            feed_dict={recieved_preamble: preamble_batch, \n",
    "                       channel_real: real_channel_batch ,adaptive_learning_rate: learning_rate * (decay**epoch)})\n",
    "        \n",
    "        train_costs.append(cost)\n",
    "        train_channels.append(channel_est)\n",
    "        \n",
    "        if epoch % 10 == 0: \n",
    "            plt.plot(epoch, cost, 'bo')\n",
    "            mc_cost, mc_channel = sess.run(\n",
    "                [cost_fn, channel_estimate], feed_dict={recieved_preamble: preamble_test, channel_real: channel_test})\n",
    "            print('Epoch {}, Cost {}, Test Cost: {}'.format(epoch, cost, mc_cost))\n",
    "            test_costs.append(mc_cost)\n",
    "            test_channels.append(mc_channel)\n",
    "            \n",
    "    saved_model = saver.save(sess, 'my-test-model')"
   ]
  },
  {
   "cell_type": "code",
   "execution_count": 94,
   "metadata": {},
   "outputs": [
    {
     "data": {
      "text/plain": [
       "Text(0,0.5,'Log Cost on Training set')"
      ]
     },
     "execution_count": 94,
     "metadata": {},
     "output_type": "execute_result"
    },
    {
     "data": {
      "image/png": "[encoded data removed]",
      "text/plain": [
       "<matplotlib.figure.Figure at 0x16457c198>"
      ]
     },
     "metadata": {},
     "output_type": "display_data"
    }
   ],
   "source": [
    "plt.plot(np.log10(train_costs))\n",
    "plt.title(\"Log Cost on Training set vs. Epochs\")\n",
    "plt.xlabel(\"Epochs\")\n",
    "plt.ylabel(\"Log Cost on Training set\")"
   ]
  },
  {
   "cell_type": "code",
   "execution_count": 95,
   "metadata": {},
   "outputs": [
    {
     "data": {
      "text/plain": [
       "Text(0,0.5,'Log Cost on Test set')"
      ]
     },
     "execution_count": 95,
     "metadata": {},
     "output_type": "execute_result"
    },
    {
     "data": {
      "image/png": "[encoded data removed]",
      "text/plain": [
       "<matplotlib.figure.Figure at 0x16458e240>"
      ]
     },
     "metadata": {},
     "output_type": "display_data"
    }
   ],
   "source": [
    "plt.plot(np.log10(test_costs))\n",
    "plt.title(\"Log Cost on Test set vs. 10's of epochs\")\n",
    "plt.xlabel(\"Number of Epochs in multiples of 10\")\n",
    "plt.ylabel(\"Log Cost on Test set\")"
   ]
  },
  {
   "cell_type": "code",
   "execution_count": 96,
   "metadata": {},
   "outputs": [
    {
     "name": "stdout",
     "output_type": "stream",
     "text": [
      "[1.0219265, 0.033606481, 0.048768654, 0.026496006, 0.010056401, 0.003677285, 0.0013806311, 0.00034000413, 2.2022658e-05, 4.7061312e-05, 2.208194e-05, 6.0817442e-06, 5.974563e-06, 4.5457455e-06, 4.0094751e-06, 3.9386455e-06, 3.9510628e-06, 3.8963849e-06, 3.904669e-06, 3.8395137e-06, 3.8684216e-06, 3.8340813e-06, 3.8117958e-06, 3.7619077e-06, 3.7320265e-06, 3.732267e-06, 3.6970832e-06, 3.9946244e-06, 3.7248294e-06, 3.6275155e-06, 4.0583282e-06, 3.2570548e-05, 0.0015577624, 0.00058368087, 0.00022242097, 7.8918463e-05, 2.3985474e-05, 5.2431592e-06, 8.0605105e-06, 3.8796893e-06, 3.7452921e-06, 3.3933788e-06, 3.4040331e-06, 2.0659445e-05, 0.0031465674, 5.6690842e-06, 3.3451681e-05, 7.2250034e-05, 4.9192007e-05, 1.9061559e-05, 7.0360802e-06, 3.3245403e-06, 4.4122708e-06, 3.7540844e-06, 3.6120116e-06, 3.1276859e-06, 3.4951038e-06, 3.8659268e-06, 7.3652291e-06, 0.00023654096, 0.0024172137, 0.00092332839, 0.00022961598, 6.6622219e-05, 1.1483846e-05, 4.3739624e-06, 9.5149326e-06, 3.6021427e-06, 3.4406103e-06, 3.0425592e-06, 3.9476386e-06, 2.991404e-06, 2.9814485e-06, 2.8690849e-06, 5.9876656e-06, 8.9785579e-05, 0.0065254853, 7.0248105e-05, 1.4414077e-05, 3.6435889e-05, 3.2503795e-05, 1.2833623e-05, 4.4434892e-06, 2.9597775e-06, 2.9371827e-06, 3.7291109e-06, 3.3187148e-06, 2.6688892e-06, 2.8478321e-06, 2.6633522e-06, 2.7994049e-06, 2.9675414e-06, 2.7188371e-06, 4.5246288e-06, 1.3500473e-05, 0.00037883865, 0.003913722, 0.00069752207, 4.719881e-05, 4.8656402e-06]\n"
     ]
    }
   ],
   "source": [
    "print(test_costs)"
   ]
  },
  {
   "cell_type": "code",
   "execution_count": 97,
   "metadata": {},
   "outputs": [
    {
     "name": "stdout",
     "output_type": "stream",
     "text": [
      "[ 0.00941967 -1.47357702 -1.31185925 -1.57681954 -1.9975574  -2.4344728\n",
      " -2.85992241 -3.46851587 -4.65713024 -4.32733583 -4.65596294 -5.21597195\n",
      " -5.22369385 -5.34239483 -5.39691257 -5.40465307 -5.40328598 -5.409338\n",
      " -5.40841579 -5.4157238  -5.41246605 -5.41633844 -5.41887045 -5.42459202\n",
      " -5.42805529 -5.42802715 -5.43214083 -5.39852428 -5.42889357 -5.44039059\n",
      " -5.39165306 -4.48717499 -2.80749869 -3.23382449 -3.65282416 -4.10282135\n",
      " -4.62005186 -5.28040695 -5.09363747 -5.41120291 -5.42651415 -5.4693675\n",
      " -5.46800613 -4.68488121 -2.50216293 -5.24648714 -4.47558212 -4.14116192\n",
      " -4.30810547 -4.71984148 -5.15266943 -5.47826862 -5.35533762 -5.4254961\n",
      " -5.44225073 -5.50477695 -5.45654011 -5.41274643 -5.13281393 -3.62609363\n",
      " -2.61668491 -3.03464389 -3.63899779 -4.17638111 -4.9399128  -5.35912514\n",
      " -5.02159405 -5.44343901 -5.4633646  -5.51676083 -5.40366268 -5.5241251\n",
      " -5.52557278 -5.54225683 -5.22274256 -4.04679346 -2.18538713 -4.15336561\n",
      " -4.84121323 -4.43847084 -4.48806572 -4.89165068 -5.35227585 -5.52874088\n",
      " -5.53206921 -5.42839479 -5.47903013 -5.57366943 -5.5454855  -5.57457161\n",
      " -5.55293417 -5.52760315 -5.56561661 -5.3444171  -4.86965084 -3.42154574\n",
      " -2.40741014 -3.15644193 -4.32606888 -5.31286001]\n"
     ]
    }
   ],
   "source": [
    "print(np.log10(test_costs))"
   ]
  },
  {
   "cell_type": "code",
   "execution_count": 98,
   "metadata": {},
   "outputs": [
    {
     "name": "stdout",
     "output_type": "stream",
     "text": [
      "[[ 0.28024751  0.38640331]\n",
      " [ 0.77082471  0.22917529]\n",
      " [ 0.35787932  0.64212068]\n",
      " [ 0.40791355  0.59208645]\n",
      " [ 0.46698483  0.53301517]\n",
      " [ 0.77556583  0.22443417]\n",
      " [ 0.5005834   0.41316206]\n",
      " [ 0.59574332  0.40425668]\n",
      " [ 0.4217953   0.5782047 ]\n",
      " [ 0.23616665  0.33127582]]\n"
     ]
    }
   ],
   "source": [
    "print(channel_test[90:100])"
   ]
  },
  {
   "cell_type": "code",
   "execution_count": 99,
   "metadata": {},
   "outputs": [
    {
     "name": "stdout",
     "output_type": "stream",
     "text": [
      "[[ 0.27969655  0.38768277]\n",
      " [ 0.77035403  0.23072353]\n",
      " [ 0.35719618  0.64410299]\n",
      " [ 0.40689811  0.59413022]\n",
      " [ 0.46605232  0.53478211]\n",
      " [ 0.77500868  0.22608304]\n",
      " [ 0.50360817  0.41548803]\n",
      " [ 0.59575516  0.4049899 ]\n",
      " [ 0.42076048  0.58021176]\n",
      " [ 0.23091057  0.3306689 ]]\n"
     ]
    }
   ],
   "source": [
    "print(test_channels[85][90:100])"
   ]
  }
 ],
 "metadata": {
  "kernelspec": {
   "display_name": "Python 3",
   "language": "python",
   "name": "python3"
  },
  "language_info": {
   "codemirror_mode": {
    "name": "ipython",
    "version": 3
   },
   "file_extension": ".py",
   "mimetype": "text/x-python",
   "name": "python",
   "nbconvert_exporter": "python",
   "pygments_lexer": "ipython3",
   "version": "3.6.4"
  }
 },
 "nbformat": 4,
 "nbformat_minor": 2
}
