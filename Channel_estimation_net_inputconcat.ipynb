{
 "cells": [
  {
   "cell_type": "markdown",
   "metadata": {},
   "source": [
    "### 2 layer NN, fully connected, 3*preamble_length node layers, nn.sigmoid - output layer identity preamble_length = 100, channel size = 2, learning rate = 0.0001, decay = 1-10^-9\n",
    "### Generate training data: channels and approximate channel inverses \n",
    "### Generate test data: channels and approximate channel inverses"
   ]
  },
  {
   "cell_type": "code",
   "execution_count": 45,
   "metadata": {},
   "outputs": [],
   "source": [
    "import numpy as np\n",
    "import scipy.signal as sig\n",
    "from numpy import linalg as LA\n",
    "import tensorflow as tf\n",
    "import matplotlib.pyplot as plt\n",
    "%matplotlib inline\n",
    "\n",
    "# Create training and test data for the NN\n",
    "\n",
    "# number of random channels that will be trained and tested on\n",
    "num_train=500000# 1000000\n",
    "num_test=10000\n",
    "SNR = 10\n",
    "\n",
    "# assume we know the channel_length\n",
    "channel_length = 2\n",
    "num_preambles = 1\n",
    "preamble_length = 100\n",
    "recieved_length = preamble_length + channel_length - 1\n",
    "\n",
    "preambles = np.random.randint(0,2,(num_preambles,preamble_length)) \n",
    "\n",
    "def add_awgn_noise(signal,SNR_dB):\n",
    "    \"\"\"  Adds AWGN noise vector to signal \n",
    "         to generate a resulting signal vector y of specified SNR in dB\n",
    "    \"\"\"\n",
    "    L=len(signal)\n",
    "    SNR = 10**(SNR_dB/10.0) #SNR to linear scale\n",
    "    Esym=np.sum(np.square(np.abs(signal)))/L #Calculate actual symbol energy\n",
    "    N0=Esym/SNR; #Find the noise spectral density\n",
    "    if(isinstance(signal[0], complex)):\n",
    "        noiseSigma=np.sqrt(N0/2.0)#Standard deviation for AWGN Noise when x is complex\n",
    "        n = noiseSigma*(np.random.randn(1,L)+1j*np.random.randn(1,L))#computed noise \n",
    "    else:\n",
    "        noiseSigma = np.sqrt(N0);#Standard deviation for AWGN Noise when x is real\n",
    "        n = noiseSigma*np.random.randn(1,L)#computed noise\n",
    "    y = signal + n #received signal\n",
    "    return signal\n",
    "\n",
    "# channel_train: assume we are working with just real parts, list of all used channels\n",
    "# preamble_train: use same channel on num_preambles different preambles and store them to train with: \n",
    "#               [actual preamble, convolved preamble of same size]\n",
    "channel_train = np.zeros((num_train,channel_length))\n",
    "preamble_train = np.zeros((num_train*num_preambles, preamble_length*2))\n",
    "\n",
    "channel_test = np.zeros((num_test,channel_length))\n",
    "preamble_test = np.zeros((num_test*num_preambles, preamble_length*2))"
   ]
  },
  {
   "cell_type": "code",
   "execution_count": 46,
   "metadata": {},
   "outputs": [],
   "source": [
    "# Create data with training data to be [preamble, convolved preamble]\n",
    "\n",
    "for i in range(0, num_train):\n",
    "    channel_train[i,:]=np.random.uniform(0.2,1,channel_length)\n",
    "    # if the total power is greater than 1, then normalize\n",
    "    if sum(channel_train[i])>=1:\n",
    "        channel_train[i] = channel_train[i]/(sum(channel_train[i]))\n",
    "        \n",
    "    for k in range(num_preambles):\n",
    "        preamble_conv = add_awgn_noise(sig.convolve(preambles[k], channel_train[i], mode='same'), SNR)\n",
    "        preamble_total = np.hstack((preambles[k], preamble_conv))\n",
    "        preamble_train[i+k,:] = preamble_total\n",
    "        \n",
    "        \n",
    "for i in range(0, num_test):\n",
    "    channel_test[i,:]=np.random.uniform(0.2,1,channel_length)\n",
    "    # if the total power is greater than 1, then normalize\n",
    "    if sum(channel_test[i])>=1:\n",
    "        channel_test[i] = channel_test[i]/(sum(channel_test[i]))\n",
    "        \n",
    "    for k in range(num_preambles):\n",
    "        preamble_conv = add_awgn_noise(sig.convolve(preambles[k], channel_test[i], mode='same'), SNR)\n",
    "        preamble_total = np.hstack((preambles[k], preamble_conv))\n",
    "        preamble_test[i+k,:] = preamble_total\n"
   ]
  },
  {
   "cell_type": "code",
   "execution_count": null,
   "metadata": {
    "scrolled": false
   },
   "outputs": [
    {
     "name": "stdout",
     "output_type": "stream",
     "text": [
      "Epoch 0, Cost 0.07882671803236008, Test Cost: 0.061335645616054535\n",
      "Epoch 100, Cost 0.003442976390942931, Test Cost: 0.003212160198017955\n",
      "Epoch 200, Cost 0.0004624091961886734, Test Cost: 0.00040186592377722263\n",
      "Epoch 300, Cost 0.00010318632121197879, Test Cost: 9.614410373615101e-05\n",
      "Epoch 400, Cost 2.1521826056414284e-05, Test Cost: 2.1823434508405626e-05\n",
      "Epoch 500, Cost 4.73438103654189e-06, Test Cost: 4.7219918997143395e-06\n",
      "Epoch 600, Cost 2.062858584395144e-06, Test Cost: 1.8171667761635035e-06\n",
      "Epoch 700, Cost 1.6486612821609015e-06, Test Cost: 1.4314725831354735e-06\n",
      "Epoch 800, Cost 1.6430464029326686e-06, Test Cost: 1.3892458810005337e-06\n",
      "Epoch 900, Cost 1.511118171038106e-06, Test Cost: 1.3750285461355816e-06\n",
      "Epoch 1000, Cost 1.5112727851374075e-06, Test Cost: 1.369095002701215e-06\n",
      "Epoch 1100, Cost 1.5150959598031477e-06, Test Cost: 1.3766421034233645e-06\n",
      "Epoch 1200, Cost 1.5132731050471193e-06, Test Cost: 1.3552768223235034e-06\n",
      "Epoch 1300, Cost 1.4055441397431423e-06, Test Cost: 1.3618505363410804e-06\n",
      "Epoch 1400, Cost 1.2992416031920584e-06, Test Cost: 1.3347606682145852e-06\n",
      "Epoch 1500, Cost 1.4803021031184471e-06, Test Cost: 1.3364715414354578e-06\n",
      "Epoch 1600, Cost 1.4691971728097997e-06, Test Cost: 1.3169486692277133e-06\n",
      "Epoch 1700, Cost 1.400225528414012e-06, Test Cost: 1.3116848549543647e-06\n",
      "Epoch 1800, Cost 1.3146186574886087e-06, Test Cost: 1.3432004379865248e-06\n",
      "Epoch 1900, Cost 1.4392317098099738e-06, Test Cost: 1.2856257853854913e-06\n",
      "Epoch 2000, Cost 1.3585264468929381e-06, Test Cost: 1.3107581935400958e-06\n",
      "Epoch 2100, Cost 1.421170964022167e-06, Test Cost: 1.2726090972137172e-06\n",
      "Epoch 2200, Cost 1.2904400819024886e-06, Test Cost: 1.2591222002811264e-06\n",
      "Epoch 2300, Cost 1.3511066754290368e-06, Test Cost: 1.2571478009704151e-06\n",
      "Epoch 2400, Cost 1.2384971341816708e-06, Test Cost: 1.2967125258001033e-06\n",
      "Epoch 2500, Cost 1.3932436786490143e-06, Test Cost: 1.2305991958783125e-06\n",
      "Epoch 2600, Cost 1.2810926364181796e-06, Test Cost: 1.2077679230060312e-06\n",
      "Epoch 2700, Cost 1.239870471181348e-06, Test Cost: 1.237405058418517e-06\n",
      "Epoch 2800, Cost 1.288318799197441e-06, Test Cost: 1.1844900882351794e-06\n",
      "Epoch 2900, Cost 4.24997961090412e-06, Test Cost: 3.6016542708239285e-06\n",
      "Epoch 3000, Cost 1.234005708283803e-06, Test Cost: 1.1944799780394533e-06\n",
      "Epoch 3100, Cost 1.3255597650640993e-06, Test Cost: 1.4630102214141516e-06\n",
      "Epoch 3200, Cost 1.3406889820544166e-06, Test Cost: 1.3366474149734131e-06\n",
      "Epoch 3300, Cost 1.3504810567610548e-06, Test Cost: 1.2903923334306455e-06\n",
      "Epoch 3400, Cost 1.1634358543233247e-06, Test Cost: 1.0735825526353437e-06\n",
      "Epoch 3500, Cost 2.8850399758084677e-06, Test Cost: 2.8789634143322473e-06\n",
      "Epoch 3600, Cost 2.730457708821632e-06, Test Cost: 2.7722230697690975e-06\n",
      "Epoch 3700, Cost 3.7535121464316035e-06, Test Cost: 3.7571646771539235e-06\n",
      "Epoch 3800, Cost 1.3412628732112353e-06, Test Cost: 1.4795318747928832e-06\n",
      "Epoch 3900, Cost 1.1051510000470444e-06, Test Cost: 1.085711346604512e-06\n",
      "Epoch 4000, Cost 4.791950686922064e-06, Test Cost: 4.982564405509038e-06\n",
      "Epoch 4100, Cost 2.508751094865147e-06, Test Cost: 2.424565764158615e-06\n",
      "Epoch 4200, Cost 1.0811273796207388e-06, Test Cost: 9.617948535378673e-07\n",
      "Epoch 4300, Cost 1.2020594795103534e-06, Test Cost: 1.1193221780558815e-06\n"
     ]
    }
   ],
   "source": [
    "# fix a random seed to have the same results\n",
    "np.random.seed()\n",
    "\n",
    "learning_rate = 0.0001#0.0001\n",
    "epochs = 5000#10000\n",
    "batch_size = 1000\n",
    "test_averaging=100\n",
    "decay = 1 - 10*1e-9#1 - 10*1e-10\n",
    "\n",
    "# placeholders for input and output\n",
    "adaptive_learning_rate = tf.placeholder_with_default(learning_rate, [])\n",
    "recieved_preamble = tf.placeholder(tf.float32, [None, preamble_length*2])\n",
    "channel_real = tf.placeholder(tf.float32, [None, channel_length])\n",
    "\n",
    "layer1 = tf.contrib.layers.fully_connected(recieved_preamble, num_outputs=3*preamble_length, activation_fn=tf.nn.sigmoid)\n",
    "#layer2 = tf.contrib.layers.fully_connected(layer1, num_outputs=3*preamble_length, activation_fn=tf.nn.sigmoid)\n",
    "layer3 = tf.contrib.layers.fully_connected(layer1, num_outputs=channel_length, activation_fn=tf.identity)\n",
    "\n",
    "channel_estimate = layer3\n",
    "\n",
    "cost_fn = tf.reduce_mean(tf.reduce_mean((channel_real-channel_estimate)**2, axis=1))\n",
    "optimizer = tf.train.AdamOptimizer(learning_rate=adaptive_learning_rate).minimize(cost_fn)\n",
    "\n",
    "init = tf.global_variables_initializer()\n",
    "saver = tf.train.Saver()\n",
    "plt.figure()\n",
    "\n",
    "test_costs =[]\n",
    "test_channels = []\n",
    "train_costs = []\n",
    "train_channels =[]\n",
    "\n",
    "with tf.Session() as sess:\n",
    "    sess.run(init)\n",
    "    \n",
    "    for epoch in range(epochs):\n",
    "        \n",
    "        # for each batch start the batch with passing the first preamble through the identity channel\n",
    "        identity_channel = np.zeros(channel_length)\n",
    "        identity_channel[0] = 1\n",
    "        preamble_conv_id = sig.convolve(preambles[0], identity_channel, mode='same')\n",
    "        preamble_batch = np.hstack((preambles[0], preamble_conv_id))\n",
    "        \n",
    "        real_channel_batch = identity_channel\n",
    "        \n",
    "        for rand in range(0,batch_size-1):\n",
    "            rand_int = np.random.randint(0,num_train*num_preambles)\n",
    "            preamble_batch = np.vstack((preamble_batch, preamble_train[rand_int]))\n",
    "            real_channel_batch = np.vstack((real_channel_batch, channel_train[rand_int]))\n",
    "            \n",
    "        preamble_batch.reshape((batch_size, preamble_length*2))\n",
    "        real_channel_batch.reshape((batch_size, channel_length))\n",
    "        \n",
    "        _,cost,channel_est = sess.run(\n",
    "            [optimizer, cost_fn, channel_estimate], \n",
    "            feed_dict={recieved_preamble: preamble_batch, \n",
    "                       channel_real: real_channel_batch ,adaptive_learning_rate: learning_rate * (decay**epoch)})\n",
    "        \n",
    "        train_costs.append(cost)\n",
    "        train_channels.append(channel_est)\n",
    "        \n",
    "        if epoch % 100 == 0: \n",
    "            plt.plot(epoch, cost, 'bo')\n",
    "            mc_cost, mc_channel = sess.run(\n",
    "                [cost_fn, channel_estimate], feed_dict={recieved_preamble: preamble_test, channel_real: channel_test})\n",
    "            print('Epoch {}, Cost {}, Test Cost: {}'.format(epoch, cost, mc_cost))\n",
    "            test_costs.append(mc_cost)\n",
    "            test_channels.append(mc_channel)\n",
    "            \n",
    "    saved_model = saver.save(sess, 'my-test-model')"
   ]
  },
  {
   "cell_type": "code",
   "execution_count": null,
   "metadata": {},
   "outputs": [],
   "source": [
    "plt.plot(np.log10(train_costs))\n",
    "plt.title(\"Log Cost on Training set vs. Epochs\")\n",
    "plt.xlabel(\"Epochs\")\n",
    "plt.ylabel(\"Log Cost on Training set\")"
   ]
  },
  {
   "cell_type": "code",
   "execution_count": null,
   "metadata": {},
   "outputs": [],
   "source": [
    "plt.plot(np.log10(test_costs))\n",
    "plt.title(\"Log Cost on Test set vs. 10's of epochs\")\n",
    "plt.xlabel(\"Number of Epochs in multiples of 10\")\n",
    "plt.ylabel(\"Log Cost on Test set\")"
   ]
  },
  {
   "cell_type": "code",
   "execution_count": null,
   "metadata": {},
   "outputs": [],
   "source": [
    "print(test_costs)"
   ]
  },
  {
   "cell_type": "code",
   "execution_count": null,
   "metadata": {},
   "outputs": [],
   "source": [
    "print(np.log10(test_costs))"
   ]
  },
  {
   "cell_type": "code",
   "execution_count": null,
   "metadata": {},
   "outputs": [],
   "source": [
    "print(channel_test[90:100])"
   ]
  },
  {
   "cell_type": "code",
   "execution_count": null,
   "metadata": {},
   "outputs": [],
   "source": [
    "print(test_channels[49][90:100])"
   ]
  },
  {
   "cell_type": "code",
   "execution_count": null,
   "metadata": {},
   "outputs": [],
   "source": []
  },
  {
   "cell_type": "code",
   "execution_count": null,
   "metadata": {},
   "outputs": [],
   "source": []
  }
 ],
 "metadata": {
  "kernelspec": {
   "display_name": "Python 3",
   "language": "python",
   "name": "python3"
  },
  "language_info": {
   "codemirror_mode": {
    "name": "ipython",
    "version": 3
   },
   "file_extension": ".py",
   "mimetype": "text/x-python",
   "name": "python",
   "nbconvert_exporter": "python",
   "pygments_lexer": "ipython3",
   "version": "3.6.4"
  }
 },
 "nbformat": 4,
 "nbformat_minor": 2
}
