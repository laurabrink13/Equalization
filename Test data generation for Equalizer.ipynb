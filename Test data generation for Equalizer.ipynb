{
 "cells": [
  {
   "cell_type": "markdown",
   "metadata": {},
   "source": [
    "# Generate Test data for equalizers\n"
   ]
  },
  {
   "cell_type": "markdown",
   "metadata": {},
   "source": [
    "Data:\n",
    "\n",
    "Bits --> constellations (complex numbers) --> transfer function (complex numbers)"
   ]
  },
  {
   "cell_type": "code",
   "execution_count": 46,
   "metadata": {
    "collapsed": false
   },
   "outputs": [
    {
     "name": "stdout",
     "output_type": "stream",
     "text": [
      "[1 0 0 0 0 0 0 0 0 0 1 0 0 1 0 0]\n",
      "[ 1.-1.j -1.-1.j -1.-1.j -1.-1.j -1.-1.j  1.-1.j -1.+1.j -1.-1.j]\n",
      "[ 0.7-0.7j -0.7-0.7j -0.4-1.j  -1.0-1.j  -1.0-1.j   0.4-1.j  -1.0+0.4j\n",
      " -0.4-1.j  -0.3+0.3j -0.3-0.3j]\n"
     ]
    }
   ],
   "source": [
    "import numpy as np\n",
    "import commpy as cp\n",
    "import scipy.signal as sig\n",
    "\n",
    "# define the number of constellation points\n",
    "c=4 \n",
    "# length of array of bits (must be divisible by c)\n",
    "n=4*c\n",
    "\n",
    "# create the modulation object with c constellation points\n",
    "QAMModem = cp.modulation.QAMModem(c)\n",
    "# create a random array of bits\n",
    "input_data_bits=np.random.randint(0,2,n) \n",
    "# use the constellation object to modulate the data bits into complex numbers\n",
    "input_data_constellations = QAMModem.modulate(input_data_bits)\n",
    "print(input_data_bits)\n",
    "print(input_data_constellations)\n",
    "\n",
    "# an example of a channel function with two consecutive taps\n",
    "channel_function=[0.7,0.3]\n",
    "# convolution of the input complex data with the channel transfer function\n",
    "channel_output = sig.convolve(input_data_constellations, channel_function, mode='full')\n",
    "print(channel_output)"
   ]
  }
 ],
 "metadata": {
  "kernelspec": {
   "display_name": "Python 2",
   "language": "python",
   "name": "python2"
  },
  "language_info": {
   "codemirror_mode": {
    "name": "ipython",
    "version": 2
   },
   "file_extension": ".py",
   "mimetype": "text/x-python",
   "name": "python",
   "nbconvert_exporter": "python",
   "pygments_lexer": "ipython2",
   "version": "2.7.13"
  }
 },
 "nbformat": 4,
 "nbformat_minor": 2
}
