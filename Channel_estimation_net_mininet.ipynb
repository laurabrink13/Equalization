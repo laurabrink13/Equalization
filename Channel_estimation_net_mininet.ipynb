{
 "cells": [
  {
   "cell_type": "markdown",
   "metadata": {},
   "source": [
    "### 2 mininets with 1 layers joined on axis 1 to and go through 2 layers, 3*preamble_length node layers - connection layer had 2*3*preamble length, nn.sigmoid - output layer identity, preamble_length = 100, channel size = 2, learning rate = 0.0001, decay = 1-10^-10"
   ]
  },
  {
   "cell_type": "code",
   "execution_count": 23,
   "metadata": {},
   "outputs": [],
   "source": [
    "import numpy as np\n",
    "import scipy.signal as sig\n",
    "from numpy import linalg as LA\n",
    "import tensorflow as tf\n",
    "import matplotlib.pyplot as plt\n",
    "%matplotlib inline\n",
    "\n",
    "# Create training and test data for the NN\n",
    "\n",
    "# number of random channels that will be trained and tested on\n",
    "num_train=500000# 1000000\n",
    "num_test=10000\n",
    "SNR = 10\n",
    "\n",
    "# assume we know the channel_length\n",
    "channel_length = 2\n",
    "num_preambles = 1\n",
    "preamble_length = 100\n",
    "recieved_length = preamble_length + channel_length - 1\n",
    "\n",
    "preambles = np.random.randint(0,2,(num_preambles,preamble_length)) \n",
    "\n",
    "def add_awgn_noise(signal,SNR_dB):\n",
    "    \"\"\"  Adds AWGN noise vector to signal \n",
    "         to generate a resulting signal vector y of specified SNR in dB\n",
    "    \"\"\"\n",
    "    L=len(signal)\n",
    "    SNR = 10**(SNR_dB/10.0) #SNR to linear scale\n",
    "    Esym=np.sum(np.square(np.abs(signal)))/L #Calculate actual symbol energy\n",
    "    N0=Esym/SNR; #Find the noise spectral density\n",
    "    if(isinstance(signal[0], complex)):\n",
    "        noiseSigma=np.sqrt(N0/2.0)#Standard deviation for AWGN Noise when x is complex\n",
    "        n = noiseSigma*(np.random.randn(1,L)+1j*np.random.randn(1,L))#computed noise \n",
    "    else:\n",
    "        noiseSigma = np.sqrt(N0);#Standard deviation for AWGN Noise when x is real\n",
    "        n = noiseSigma*np.random.randn(1,L)#computed noise\n",
    "    y = signal + n #received signal\n",
    "    return signal\n",
    "\n",
    "# channel_train: assume we are working with just real parts, list of all used channels\n",
    "# preamble_train: use same channel on num_preambles different preambles and store them to train with\n",
    "# true_preambles: the same true preamble over and over again to use as an input with the convolved preamble\n",
    "channel_train = np.zeros((num_train,channel_length))\n",
    "preamble_train = np.zeros((num_train*num_preambles, preamble_length))\n",
    "true_preambles = np.zeros((num_train*num_preambles, preamble_length))\n",
    "\n",
    "channel_test = np.zeros((num_test,channel_length))\n",
    "preamble_test = np.zeros((num_test*num_preambles, preamble_length))\n",
    "#true_preambles_test = np.zeros((num_test*num_preambles, preamble_length))"
   ]
  },
  {
   "cell_type": "code",
   "execution_count": 32,
   "metadata": {},
   "outputs": [],
   "source": [
    "for i in range(num_train*num_preambles):\n",
    "    true_preambles[i] = preambles[0]\n",
    "    "
   ]
  },
  {
   "cell_type": "code",
   "execution_count": 31,
   "metadata": {},
   "outputs": [
    {
     "name": "stdout",
     "output_type": "stream",
     "text": [
      "[ True  True  True  True  True  True  True  True  True  True  True  True\n",
      "  True  True  True  True  True  True  True  True  True  True  True  True\n",
      "  True  True  True  True  True  True  True  True  True  True  True  True\n",
      "  True  True  True  True  True  True  True  True  True  True  True  True\n",
      "  True  True  True  True  True  True  True  True  True  True  True  True\n",
      "  True  True  True  True  True  True  True  True  True  True  True  True\n",
      "  True  True  True  True  True  True  True  True  True  True  True  True\n",
      "  True  True  True  True  True  True  True  True  True  True  True  True\n",
      "  True  True  True  True]\n"
     ]
    }
   ],
   "source": []
  },
  {
   "cell_type": "code",
   "execution_count": 34,
   "metadata": {},
   "outputs": [
    {
     "name": "stdout",
     "output_type": "stream",
     "text": [
      "0\n",
      "50000\n",
      "100000\n",
      "150000\n",
      "200000\n",
      "250000\n",
      "300000\n",
      "350000\n",
      "400000\n",
      "450000\n",
      "Made Train Data\n",
      "0\n",
      "Made Test Data\n"
     ]
    }
   ],
   "source": [
    "for i in range(0, num_train):\n",
    "    if i%50000 == 0:\n",
    "        print(i)\n",
    "    channel_train[i,:]=np.random.uniform(0.2,1,channel_length)\n",
    "    # if the total power is greater than 1, then normalize\n",
    "    if sum(channel_train[i])>=1:\n",
    "        channel_train[i] = channel_train[i]/(sum(channel_train[i]))\n",
    "        \n",
    "    for k in range(num_preambles):\n",
    "        preamble_train[i+k,:] = add_awgn_noise(sig.convolve(preambles[k], channel_train[i], mode='same'), SNR)\n",
    "\n",
    "print(\"Made Train Data\")\n",
    "        \n",
    "for i in range(0, num_test):\n",
    "    if i%1000 == 0:\n",
    "        print(i)\n",
    "    channel_test[i,:]=np.random.uniform(0.2,1,channel_length)\n",
    "    # if the total power is greater than 1, then normalize\n",
    "    if sum(channel_test[i])>=1:\n",
    "        channel_test[i] = channel_test[i]/(sum(channel_test[i]))\n",
    "        \n",
    "    for k in range(num_preambles):\n",
    "        preamble_test[i+k,:] = add_awgn_noise(sig.convolve(preambles[k], channel_test[i], mode='same'), SNR)\n",
    "        #true_preambles_test[i+k:] = preambles[0]\n",
    "        \n",
    "print(\"Made Test Data\")"
   ]
  },
  {
   "cell_type": "code",
   "execution_count": 35,
   "metadata": {},
   "outputs": [
    {
     "name": "stdout",
     "output_type": "stream",
     "text": [
      "100\n"
     ]
    }
   ],
   "source": [
    "print(len(preamble_test[0]))"
   ]
  },
  {
   "cell_type": "code",
   "execution_count": 80,
   "metadata": {
    "scrolled": false
   },
   "outputs": [
    {
     "name": "stdout",
     "output_type": "stream",
     "text": [
      "Epoch 0, Cost 1.0170563459396362, Test Cost: 0.6949848532676697\n",
      "Epoch 100, Cost 0.017994221299886703, Test Cost: 0.017619509249925613\n",
      "Epoch 200, Cost 0.010345968417823315, Test Cost: 0.011093485169112682\n",
      "Epoch 300, Cost 0.005711496341973543, Test Cost: 0.0056357732973992825\n",
      "Epoch 400, Cost 0.0033075809478759766, Test Cost: 0.0032616714015603065\n",
      "Epoch 500, Cost 0.002519149798899889, Test Cost: 0.00235192384570837\n",
      "Epoch 600, Cost 0.0019552966114133596, Test Cost: 0.001766251982189715\n",
      "Epoch 700, Cost 0.0013942564837634563, Test Cost: 0.0013184983981773257\n",
      "Epoch 800, Cost 0.0008714309660717845, Test Cost: 0.0009626600076444447\n",
      "Epoch 900, Cost 0.0005973895895294845, Test Cost: 0.0006711747846566141\n",
      "Epoch 1000, Cost 0.00046997424215078354, Test Cost: 0.0004433997964952141\n",
      "Epoch 1100, Cost 0.00026666707708500326, Test Cost: 0.0002769383427221328\n",
      "Epoch 1200, Cost 0.00017275959544349462, Test Cost: 0.00016220202087424695\n",
      "Epoch 1300, Cost 8.987929322756827e-05, Test Cost: 9.060992306331173e-05\n",
      "Epoch 1400, Cost 4.6459241275442764e-05, Test Cost: 4.908809933112934e-05\n",
      "Epoch 1500, Cost 2.753902481344994e-05, Test Cost: 2.6332652851124294e-05\n",
      "Epoch 1600, Cost 1.5201152564259246e-05, Test Cost: 1.4895566891937051e-05\n",
      "Epoch 1700, Cost 1.0620664397720248e-05, Test Cost: 9.731305908644572e-06\n",
      "Epoch 1800, Cost 8.74434772413224e-06, Test Cost: 7.385365734080551e-06\n",
      "Epoch 1900, Cost 7.704784366069362e-06, Test Cost: 6.414358267647913e-06\n",
      "Epoch 2000, Cost 7.21314427210018e-06, Test Cost: 6.045777354302118e-06\n",
      "Epoch 2100, Cost 6.563218903465895e-06, Test Cost: 5.891551609238377e-06\n",
      "Epoch 2200, Cost 6.855361334601184e-06, Test Cost: 5.7685738283907995e-06\n",
      "Epoch 2300, Cost 6.625024070672225e-06, Test Cost: 5.7738288887776434e-06\n",
      "Epoch 2400, Cost 7.134299721656134e-06, Test Cost: 5.810539278172655e-06\n",
      "Epoch 2500, Cost 7.02476881997427e-06, Test Cost: 5.632165539282141e-06\n",
      "Epoch 2600, Cost 6.771433618268929e-06, Test Cost: 5.57657722310978e-06\n",
      "Epoch 2700, Cost 6.796146863052854e-06, Test Cost: 6.0945267250644974e-06\n",
      "Epoch 2800, Cost 6.083802418288542e-06, Test Cost: 6.253471838135738e-06\n",
      "Epoch 2900, Cost 1.3168563782528508e-05, Test Cost: 1.532945861981716e-05\n",
      "Epoch 3000, Cost 2.6592482754494995e-05, Test Cost: 2.74512312898878e-05\n",
      "Epoch 3100, Cost 6.5367698880436365e-06, Test Cost: 6.337743343465263e-06\n",
      "Epoch 3200, Cost 7.790080417180434e-06, Test Cost: 6.766805199731607e-06\n",
      "Epoch 3300, Cost 6.4140067479456775e-06, Test Cost: 5.241064172878396e-06\n",
      "Epoch 3400, Cost 6.21387516730465e-06, Test Cost: 5.640687049890403e-06\n",
      "Epoch 3500, Cost 3.477871359791607e-05, Test Cost: 3.7558831536443904e-05\n",
      "Epoch 3600, Cost 6.775783731427509e-06, Test Cost: 6.489172392321052e-06\n",
      "Epoch 3700, Cost 9.267334462492727e-06, Test Cost: 1.0977328201988712e-05\n",
      "Epoch 3800, Cost 9.68967560766032e-06, Test Cost: 8.562013135815505e-06\n",
      "Epoch 3900, Cost 5.754730864282465e-06, Test Cost: 5.49726382814697e-06\n",
      "Epoch 4000, Cost 2.460525865899399e-05, Test Cost: 2.5668572561698966e-05\n",
      "Epoch 4100, Cost 2.6598561817081645e-05, Test Cost: 1.5805588191142306e-05\n",
      "Epoch 4200, Cost 6.725607363478048e-06, Test Cost: 4.95893709739903e-06\n",
      "Epoch 4300, Cost 3.134402504656464e-05, Test Cost: 1.989799420698546e-05\n",
      "Epoch 4400, Cost 6.009099251969019e-06, Test Cost: 5.995687843096675e-06\n",
      "Epoch 4500, Cost 5.586913630395429e-06, Test Cost: 4.4223179429536685e-06\n",
      "Epoch 4600, Cost 8.461815923510585e-06, Test Cost: 7.581246791232843e-06\n",
      "Epoch 4700, Cost 2.1572544937953353e-05, Test Cost: 1.608734055480454e-05\n",
      "Epoch 4800, Cost 9.095819223148283e-06, Test Cost: 1.1245915629842784e-05\n",
      "Epoch 4900, Cost 1.3505630704457872e-05, Test Cost: 1.4753685718460474e-05\n"
     ]
    },
    {
     "data": {
      "image/png": "[encoded data removed]",
      "text/plain": [
       "<matplotlib.figure.Figure at 0x1e2e29eb8>"
      ]
     },
     "metadata": {},
     "output_type": "display_data"
    }
   ],
   "source": [
    "# fix a random seed to have the same results\n",
    "np.random.seed()\n",
    "\n",
    "learning_rate = 0.0001#0.001\n",
    "epochs = 5000#10000\n",
    "batch_size = 1000\n",
    "test_averaging=100\n",
    "decay = 1 - 10*1e-10#1 - 10*1e-10\n",
    "\n",
    "# placeholders for input and output\n",
    "adaptive_learning_rate = tf.placeholder_with_default(learning_rate, [], name=\"adaptive_learning_rate\")\n",
    "recieved_preamble = tf.placeholder(tf.float32, [None, preamble_length], name=\"recieved_preamble\")\n",
    "actual_preamble = tf.placeholder(tf.float32, [None, preamble_length], name=\"actual_preamble\")\n",
    "real_channel = tf.placeholder(tf.float32, [None, channel_length], name=\"real_channel\")\n",
    "\n",
    "layer1_1 = tf.contrib.layers.fully_connected(actual_preamble, num_outputs=3*preamble_length, activation_fn=tf.nn.sigmoid)\n",
    "#layer1_2 = tf.contrib.layers.fully_connected(layer1_1, num_outputs=3*preamble_length, activation_fn=tf.nn.sigmoid)\n",
    "\n",
    "layer2_1 = tf.contrib.layers.fully_connected(recieved_preamble, num_outputs=3*preamble_length, activation_fn=tf.nn.sigmoid)\n",
    "#layer2_2 = tf.contrib.layers.fully_connected(layer2_1, num_outputs=3*preamble_length, activation_fn=tf.nn.sigmoid)\n",
    "\n",
    "#combined_12 = tf.concat([layer1_2, layer2_2], axis=1)\n",
    "combined_12 = tf.concat([layer1_1, layer2_1], axis=1)\n",
    "\n",
    "layer3 = tf.contrib.layers.fully_connected(combined_12, num_outputs=2*3*preamble_length, activation_fn=tf.nn.sigmoid)\n",
    "layer4 = tf.contrib.layers.fully_connected(layer3, num_outputs=channel_length, activation_fn=tf.identity)\n",
    "\n",
    "channel_estimate = layer4\n",
    "\n",
    "cost_fn = tf.reduce_mean(tf.reduce_mean((real_channel-channel_estimate)**2, axis=1))\n",
    "optimizer = tf.train.AdamOptimizer(learning_rate=adaptive_learning_rate).minimize(cost_fn)\n",
    "\n",
    "init = tf.global_variables_initializer()\n",
    "saver = tf.train.Saver()\n",
    "plt.figure()\n",
    "\n",
    "train_costs = []\n",
    "train_channels = []\n",
    "test_costs = []\n",
    "test_channels = []\n",
    "\n",
    "with tf.Session() as sess:\n",
    "    sess.run(init)\n",
    "    \n",
    "    for epoch in range(epochs):\n",
    "        \n",
    "        # for each batch start the batch with passing the first preamble through the identity channel\n",
    "        identity_channel = np.zeros(channel_length)\n",
    "        identity_channel[0] = 1\n",
    "        preamble_batch = sig.convolve(preambles[0], identity_channel, mode='same')\n",
    "        real_channel_batch = identity_channel\n",
    "        \n",
    "        for rand in range(0,batch_size-1):\n",
    "            rand_int = np.random.randint(0,num_train*num_preambles)\n",
    "            preamble_batch = np.vstack((preamble_batch, preamble_train[rand_int]))\n",
    "            real_channel_batch = np.vstack((real_channel_batch, channel_train[rand_int]))\n",
    "            \n",
    "        preamble_batch.reshape((batch_size, preamble_length))\n",
    "        real_channel_batch.reshape((batch_size, channel_length))\n",
    "        \n",
    "        _,cost,channel_est = sess.run(\n",
    "            [optimizer, cost_fn, channel_estimate], \n",
    "            feed_dict={actual_preamble: true_preambles[:batch_size],recieved_preamble: preamble_batch, \n",
    "                       real_channel: real_channel_batch ,adaptive_learning_rate: learning_rate * (decay**epoch)})\n",
    "        \n",
    "        train_costs.append(cost)\n",
    "        train_channels.append(channel_est)\n",
    "        \n",
    "        if epoch % 100 == 0: \n",
    "            plt.plot(epoch, cost, 'bo')\n",
    "            test_cost, test_channel = sess.run(\n",
    "                [cost_fn, channel_estimate], feed_dict={actual_preamble: true_preambles[:num_test],recieved_preamble: preamble_test, real_channel: channel_test})\n",
    "            print('Epoch {}, Cost {}, Test Cost: {}'.format(epoch, cost, test_cost))\n",
    "            \n",
    "            test_costs.append(test_cost)\n",
    "            test_channels.append(test_channel)\n",
    "\n",
    "    saved_model = saver.save(sess, 'my-test-model')"
   ]
  },
  {
   "cell_type": "code",
   "execution_count": 81,
   "metadata": {},
   "outputs": [
    {
     "data": {
      "text/plain": [
       "Text(0,0.5,'Log Cost on Training set')"
      ]
     },
     "execution_count": 81,
     "metadata": {},
     "output_type": "execute_result"
    },
    {
     "data": {
      "image/png": "[encoded data removed]",
      "text/plain": [
       "<matplotlib.figure.Figure at 0x123def630>"
      ]
     },
     "metadata": {},
     "output_type": "display_data"
    }
   ],
   "source": [
    "plt.plot(np.log10(train_costs))\n",
    "plt.title(\"Log Cost on Training set vs. Epochs\")\n",
    "plt.xlabel(\"Epochs\")\n",
    "plt.ylabel(\"Log Cost on Training set\")"
   ]
  },
  {
   "cell_type": "code",
   "execution_count": 82,
   "metadata": {},
   "outputs": [
    {
     "data": {
      "text/plain": [
       "Text(0,0.5,'Log Cost on Test set')"
      ]
     },
     "execution_count": 82,
     "metadata": {},
     "output_type": "execute_result"
    },
    {
     "data": {
      "image/png": "[encoded data removed]",
      "text/plain": [
       "<matplotlib.figure.Figure at 0x1cdc08ef0>"
      ]
     },
     "metadata": {},
     "output_type": "display_data"
    }
   ],
   "source": [
    "plt.plot(np.log10(test_costs))\n",
    "plt.title(\"Log Cost on Test set vs. 10's of epochs\")\n",
    "plt.xlabel(\"Number of Epochs in multiples of 10\")\n",
    "plt.ylabel(\"Log Cost on Test set\")"
   ]
  },
  {
   "cell_type": "code",
   "execution_count": 83,
   "metadata": {},
   "outputs": [
    {
     "name": "stdout",
     "output_type": "stream",
     "text": [
      "[0.69498485, 0.017619509, 0.011093485, 0.0056357733, 0.0032616714, 0.0023519238, 0.001766252, 0.0013184984, 0.00096266001, 0.00067117478, 0.0004433998, 0.00027693834, 0.00016220202, 9.0609923e-05, 4.9088099e-05, 2.6332653e-05, 1.4895567e-05, 9.7313059e-06, 7.3853657e-06, 6.4143583e-06, 6.0457774e-06, 5.8915516e-06, 5.7685738e-06, 5.7738289e-06, 5.8105393e-06, 5.6321655e-06, 5.5765772e-06, 6.0945267e-06, 6.2534718e-06, 1.5329459e-05, 2.7451231e-05, 6.3377433e-06, 6.7668052e-06, 5.2410642e-06, 5.640687e-06, 3.7558832e-05, 6.4891724e-06, 1.0977328e-05, 8.5620131e-06, 5.4972638e-06, 2.5668573e-05, 1.5805588e-05, 4.9589371e-06, 1.9897994e-05, 5.9956878e-06, 4.4223179e-06, 7.5812468e-06, 1.6087341e-05, 1.1245916e-05, 1.4753686e-05]\n"
     ]
    }
   ],
   "source": [
    "print(test_costs)"
   ]
  },
  {
   "cell_type": "code",
   "execution_count": 84,
   "metadata": {},
   "outputs": [
    {
     "name": "stdout",
     "output_type": "stream",
     "text": [
      "[[ 0.410446    0.45406902]\n",
      " [ 0.36399433  0.22458202]\n",
      " [ 0.37392983  0.62607017]\n",
      " [ 0.42199069  0.57800931]\n",
      " [ 0.6017185   0.3982815 ]\n",
      " [ 0.25283066  0.65221732]\n",
      " [ 0.45035209  0.54964791]\n",
      " [ 0.51680878  0.45090477]\n",
      " [ 0.28705173  0.71294827]\n",
      " [ 0.60943124  0.39056876]]\n"
     ]
    }
   ],
   "source": [
    "print(channel_test[90:100])"
   ]
  },
  {
   "cell_type": "code",
   "execution_count": 85,
   "metadata": {},
   "outputs": [
    {
     "name": "stdout",
     "output_type": "stream",
     "text": [
      "[[ 0.46417308  0.48768815]\n",
      " [ 0.48691222  0.42620715]\n",
      " [ 0.43849933  0.54503381]\n",
      " [ 0.45039913  0.52251977]\n",
      " [ 0.49492833  0.43810034]\n",
      " [ 0.41995215  0.57398164]\n",
      " [ 0.45742854  0.50921166]\n",
      " [ 0.47790062  0.46834785]\n",
      " [ 0.41706106  0.58555186]\n",
      " [ 0.49683419  0.43448025]]\n"
     ]
    }
   ],
   "source": [
    "print(test_channels[2][90:100])"
   ]
  },
  {
   "cell_type": "code",
   "execution_count": null,
   "metadata": {},
   "outputs": [],
   "source": []
  }
 ],
 "metadata": {
  "kernelspec": {
   "display_name": "Python 3",
   "language": "python",
   "name": "python3"
  },
  "language_info": {
   "codemirror_mode": {
    "name": "ipython",
    "version": 3
   },
   "file_extension": ".py",
   "mimetype": "text/x-python",
   "name": "python",
   "nbconvert_exporter": "python",
   "pygments_lexer": "ipython3",
   "version": "3.6.4"
  }
 },
 "nbformat": 4,
 "nbformat_minor": 2
}
