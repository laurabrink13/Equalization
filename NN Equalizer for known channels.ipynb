{
 "cells": [
  {
   "cell_type": "markdown",
   "metadata": {},
   "source": [
    "A neural network Equalizer for known channels.  \n",
    "\n",
    "Inputs: received signal, coefficients of taps\n",
    "Outputs: equalized signal\n",
    "Training: received signal, orginial signal, coefficients of taps\n",
    "Loss function: squared loss"
   ]
  },
  {
   "cell_type": "code",
   "execution_count": 50,
   "metadata": {
    "collapsed": false
   },
   "outputs": [],
   "source": [
    "# Construct the data: BPSK\n",
    "import numpy as np\n",
    "import commpy as cp\n",
    "import scipy.signal as sig\n",
    "\n",
    "# length of array of bits\n",
    "n=1000\n",
    "\n",
    "# create a random array of bits\n",
    "input_data_bits=np.random.randint(0,2,(n)) \n",
    "\n",
    "# modulate the data bits into complex numbers\n",
    "input_data_constellations = input_data_bits*2 -1\n",
    "\n",
    "\n",
    "# an example of a channel function with two consecutive taps\n",
    "channel_function=[0.9,0.89]\n",
    "# convolution of the input complex data with the channel transfer function\n",
    "channel_output = sig.convolve(input_data_constellations, channel_function, mode='full')\n",
    "l=channel_output.shape[0]\n",
    "\n",
    "# construct data matrix X with rows of history of symbols received\n",
    "X=np.zeros((l,12))\n",
    "for i in range (0,l):\n",
    "    X[i,0]=channel_function[0]\n",
    "    X[i,1]=channel_function[1]\n",
    "    for j in range(0,9):\n",
    "        if j<=i:\n",
    "            X[i,j+2]=channel_output[i-j]\n",
    "\n",
    "# construct the training vector y from original symbols\n",
    "y=input_data_constellations\n",
    "# ensure that dimension of y is the same as dimension of X, may need to append 0s to y\n",
    "num_zero_pad=l-y.shape[0]\n",
    "y=np.pad(y, (0, num_zero_pad), 'constant')"
   ]
  },
  {
   "cell_type": "code",
   "execution_count": 51,
   "metadata": {
    "collapsed": false
   },
   "outputs": [],
   "source": [
    "# train test split\n",
    "from sklearn.model_selection import train_test_split\n",
    "X_train, X_test, y_train, y_test = train_test_split(X,y)"
   ]
  },
  {
   "cell_type": "code",
   "execution_count": 44,
   "metadata": {
    "collapsed": false
   },
   "outputs": [
    {
     "data": {
      "text/plain": [
       "MLPRegressor(activation='tanh', alpha=0.0001, batch_size='auto', beta_1=0.9,\n",
       "       beta_2=0.999, early_stopping=False, epsilon=1e-08,\n",
       "       hidden_layer_sizes=12, learning_rate='constant',\n",
       "       learning_rate_init=0.001, max_iter=200, momentum=0.9,\n",
       "       nesterovs_momentum=True, power_t=0.5, random_state=None,\n",
       "       shuffle=True, solver='adam', tol=0.0001, validation_fraction=0.1,\n",
       "       verbose=False, warm_start=False)"
      ]
     },
     "execution_count": 44,
     "metadata": {},
     "output_type": "execute_result"
    }
   ],
   "source": [
    "# training the model\n",
    "from sklearn.neural_network import MLPRegressor\n",
    "# mlp=MLPRegressor(hidden_layer_sizes=(12),activation='relu')\n",
    "mlp=MLPRegressor(hidden_layer_sizes=(12), activation='tanh')\n",
    "# mlp=MLPRegressor(hidden_layer_sizes=(12), activation='logistic')\n",
    "# mlp=MLPRegressor(hidden_layer_sizes=(12), activation='identity')\n",
    "\n",
    "mlp.fit(X_train,y_train)"
   ]
  },
  {
   "cell_type": "code",
   "execution_count": 53,
   "metadata": {
    "collapsed": false
   },
   "outputs": [
    {
     "data": {
      "text/plain": [
       "11.780571062062009"
      ]
     },
     "execution_count": 53,
     "metadata": {},
     "output_type": "execute_result"
    }
   ],
   "source": [
    "# Predictions and Evaluation\n",
    "predictions=mlp.predict(X_test)\n",
    "np.linalg.norm(y_test-predictions,2)\n"
   ]
  },
  {
   "cell_type": "code",
   "execution_count": null,
   "metadata": {
    "collapsed": true
   },
   "outputs": [],
   "source": [
    "# input = channel taps\n",
    "# output = channel taps\n",
    "# the best FIR of the channel taps"
   ]
  }
 ],
 "metadata": {
  "kernelspec": {
   "display_name": "Python 2",
   "language": "python",
   "name": "python2"
  },
  "language_info": {
   "codemirror_mode": {
    "name": "ipython",
    "version": 2
   },
   "file_extension": ".py",
   "mimetype": "text/x-python",
   "name": "python",
   "nbconvert_exporter": "python",
   "pygments_lexer": "ipython2",
   "version": "2.7.13"
  }
 },
 "nbformat": 4,
 "nbformat_minor": 2
}
